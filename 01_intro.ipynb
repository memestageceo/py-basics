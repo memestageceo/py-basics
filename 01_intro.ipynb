{
 "cells": [
  {
   "cell_type": "markdown",
   "metadata": {
    "colab_type": "text",
    "id": "view-in-github"
   },
   "source": [
    "<a href=\"https://colab.research.google.com/github/memestageceo/py-basics/blob/main/01_intro.ipynb\" target=\"_parent\"><img src=\"https://colab.research.google.com/assets/colab-badge.svg\" alt=\"Open In Colab\"/></a>"
   ]
  },
  {
   "cell_type": "code",
   "execution_count": 1,
   "metadata": {
    "colab": {
     "base_uri": "https://localhost:8080/"
    },
    "id": "yT9v0Smn1RlR",
    "outputId": "4976a52e-a925-48ce-e522-254fbf4ce1a6"
   },
   "outputs": [
    {
     "name": "stdout",
     "output_type": "stream",
     "text": [
      "4\n"
     ]
    }
   ],
   "source": [
    "print(2+2)"
   ]
  },
  {
   "cell_type": "code",
   "execution_count": 2,
   "metadata": {
    "id": "spg2VFFA1ttz"
   },
   "outputs": [],
   "source": [
    "# this is a comment"
   ]
  },
  {
   "cell_type": "markdown",
   "metadata": {
    "id": "o2xfLrWc15yY"
   },
   "source": [
    "To work on ~~various~~ stuff:\n",
    "- i can use markdown\n",
    "- i can **make things bold**\n",
    "- I can make things large\n"
   ]
  },
  {
   "cell_type": "code",
   "execution_count": 3,
   "metadata": {
    "colab": {
     "base_uri": "https://localhost:8080/"
    },
    "id": "zMxc-G8e1zgY",
    "outputId": "bffced25-e609-479e-c4cc-b443a397d346"
   },
   "outputs": [
    {
     "name": "stdout",
     "output_type": "stream",
     "text": [
      "01_intro.ipynb\tREADME.md\n"
     ]
    }
   ],
   "source": [
    "!ls"
   ]
  },
  {
   "cell_type": "code",
   "execution_count": 4,
   "metadata": {
    "colab": {
     "base_uri": "https://localhost:8080/"
    },
    "id": "rI-xkfsC2j65",
    "outputId": "439934cc-a6bf-4ba2-f410-c601ee298247"
   },
   "outputs": [
    {
     "name": "stdout",
     "output_type": "stream",
     "text": [
      "135 μs ± 766 ns per loop (mean ± std. dev. of 7 runs, 10,000 loops each)\n"
     ]
    }
   ],
   "source": [
    "%timeit [i**2 for i in range(1000)]"
   ]
  },
  {
   "cell_type": "code",
   "execution_count": 5,
   "metadata": {
    "colab": {
     "base_uri": "https://localhost:8080/"
    },
    "id": "rMVdB2sN2qSC",
    "outputId": "f18a325c-3c40-44a5-8855-07bc424896f5"
   },
   "outputs": [
    {
     "name": "stdout",
     "output_type": "stream",
     "text": [
      "11000.0\n"
     ]
    }
   ],
   "source": [
    "salary = 10000\n",
    "bonus_rate = 0.1\n",
    "\n",
    "total_salary = salary * (1 + bonus_rate)\n",
    "print(total_salary)"
   ]
  },
  {
   "cell_type": "code",
   "execution_count": 6,
   "metadata": {
    "colab": {
     "base_uri": "https://localhost:8080/"
    },
    "id": "NempWvd46Nc1",
    "outputId": "6298f58e-551e-4c10-88bc-a73cbf333384"
   },
   "outputs": [
    {
     "name": "stdout",
     "output_type": "stream",
     "text": [
      "True\n",
      "False\n"
     ]
    }
   ],
   "source": [
    "job_1 = \"Data Analyst\"\n",
    "job_2 = \"Data Analyst\"\n",
    "\n",
    "print(job_1 == job_2)\n",
    "print(id(job_1) == id(job_2)) # id isn't the same"
   ]
  },
  {
   "cell_type": "code",
   "execution_count": 7,
   "metadata": {
    "colab": {
     "base_uri": "https://localhost:8080/"
    },
    "id": "gxYVlvVbVfCV",
    "outputId": "be5250a2-d337-45d1-8e55-e2238b072612"
   },
   "outputs": [
    {
     "name": "stdout",
     "output_type": "stream",
     "text": [
      "22\n"
     ]
    }
   ],
   "source": [
    "my_print_func = print\n",
    "my_print_func(22)"
   ]
  },
  {
   "cell_type": "code",
   "execution_count": 8,
   "metadata": {
    "id": "n5t7rEmNV4kz"
   },
   "outputs": [],
   "source": [
    "def greet():\n",
    "  return \"my name is greet.\"\n"
   ]
  },
  {
   "cell_type": "code",
   "execution_count": 9,
   "metadata": {
    "colab": {
     "base_uri": "https://localhost:8080/",
     "height": 36
    },
    "id": "vuux_owmWE9B",
    "outputId": "7a8b4060-404a-4623-95d0-26eef297919d"
   },
   "outputs": [
    {
     "data": {
      "text/plain": [
       "'my name is greet.'"
      ]
     },
     "execution_count": 9,
     "metadata": {},
     "output_type": "execute_result"
    }
   ],
   "source": [
    "greet()"
   ]
  },
  {
   "cell_type": "code",
   "execution_count": 10,
   "metadata": {
    "id": "zN2BYRz9WGP0"
   },
   "outputs": [],
   "source": [
    "def display_info(title, location, salary):\n",
    "  print(f\"JOB: {title}\")\n",
    "  print(f\"Location: {location}\")\n",
    "  print(f\"Salary: {salary}\")\n",
    "  return\n"
   ]
  },
  {
   "cell_type": "code",
   "execution_count": 11,
   "metadata": {
    "id": "uKCKky1HWih7"
   },
   "outputs": [],
   "source": [
    "class JobPost:\n",
    "  def __init__(self, title, location, salary):\n",
    "    self.title = title\n",
    "    self.location = location\n",
    "    self.salary = salary\n",
    "  def display_info(self):\n",
    "    return print(f\"JOB: {self.title}\\nLocation: {self.location}\\nSalary: {self.salary}\")\n"
   ]
  },
  {
   "cell_type": "code",
   "execution_count": 12,
   "metadata": {
    "colab": {
     "base_uri": "https://localhost:8080/"
    },
    "id": "eQErDaFaXnvC",
    "outputId": "0e5b7166-8b66-4f22-cf99-929f150f73a7"
   },
   "outputs": [
    {
     "name": "stdout",
     "output_type": "stream",
     "text": [
      "<__main__.JobPost object at 0x7f7dcd52c310>\n",
      "JOB: tech writer\n",
      "Location: gurugram\n",
      "Salary: 25223\n"
     ]
    }
   ],
   "source": [
    "job_title = \"tech writer\"\n",
    "job_location = \"gurugram\"\n",
    "job_salary = 25223\n",
    "techWriter = JobPost(job_title, job_location, job_salary)\n",
    "print(techWriter)\n",
    "techWriter.display_info()"
   ]
  },
  {
   "cell_type": "code",
   "execution_count": 13,
   "metadata": {
    "colab": {
     "base_uri": "https://localhost:8080/"
    },
    "id": "6yigEEhBX-5c",
    "outputId": "3faa2eeb-0a4f-48f3-f18a-d16d6452d98b"
   },
   "outputs": [
    {
     "name": "stdout",
     "output_type": "stream",
     "text": [
      "<class 'int'>\n"
     ]
    }
   ],
   "source": [
    "print(type(techWriter.salary));"
   ]
  },
  {
   "cell_type": "code",
   "execution_count": 14,
   "metadata": {
    "colab": {
     "base_uri": "https://localhost:8080/"
    },
    "collapsed": true,
    "id": "Y2KYQxEzZQId",
    "outputId": "c8928a87-b95d-47e9-f957-2b3c9a4b5abc"
   },
   "outputs": [
    {
     "name": "stdout",
     "output_type": "stream",
     "text": [
      "Help on class str in module builtins:\n",
      "\n",
      "class str(object)\n",
      " |  str(object='') -> str\n",
      " |  str(bytes_or_buffer[, encoding[, errors]]) -> str\n",
      " |  \n",
      " |  Create a new string object from the given object. If encoding or\n",
      " |  errors is specified, then the object must expose a data buffer\n",
      " |  that will be decoded using the given encoding and error handler.\n",
      " |  Otherwise, returns the result of object.__str__() (if defined)\n",
      " |  or repr(object).\n",
      " |  encoding defaults to sys.getdefaultencoding().\n",
      " |  errors defaults to 'strict'.\n",
      " |  \n",
      " |  Methods defined here:\n",
      " |  \n",
      " |  __add__(self, value, /)\n",
      " |      Return self+value.\n",
      " |  \n",
      " |  __contains__(self, key, /)\n",
      " |      Return key in self.\n",
      " |  \n",
      " |  __eq__(self, value, /)\n",
      " |      Return self==value.\n",
      " |  \n",
      " |  __format__(self, format_spec, /)\n",
      " |      Return a formatted version of the string as described by format_spec.\n",
      " |  \n",
      " |  __ge__(self, value, /)\n",
      " |      Return self>=value.\n",
      " |  \n",
      " |  __getattribute__(self, name, /)\n",
      " |      Return getattr(self, name).\n",
      " |  \n",
      " |  __getitem__(self, key, /)\n",
      " |      Return self[key].\n",
      " |  \n",
      " |  __getnewargs__(...)\n",
      " |  \n",
      " |  __gt__(self, value, /)\n",
      " |      Return self>value.\n",
      " |  \n",
      " |  __hash__(self, /)\n",
      " |      Return hash(self).\n",
      " |  \n",
      " |  __iter__(self, /)\n",
      " |      Implement iter(self).\n",
      " |  \n",
      " |  __le__(self, value, /)\n",
      " |      Return self<=value.\n",
      " |  \n",
      " |  __len__(self, /)\n",
      " |      Return len(self).\n",
      " |  \n",
      " |  __lt__(self, value, /)\n",
      " |      Return self<value.\n",
      " |  \n",
      " |  __mod__(self, value, /)\n",
      " |      Return self%value.\n",
      " |  \n",
      " |  __mul__(self, value, /)\n",
      " |      Return self*value.\n",
      " |  \n",
      " |  __ne__(self, value, /)\n",
      " |      Return self!=value.\n",
      " |  \n",
      " |  __repr__(self, /)\n",
      " |      Return repr(self).\n",
      " |  \n",
      " |  __rmod__(self, value, /)\n",
      " |      Return value%self.\n",
      " |  \n",
      " |  __rmul__(self, value, /)\n",
      " |      Return value*self.\n",
      " |  \n",
      " |  __sizeof__(self, /)\n",
      " |      Return the size of the string in memory, in bytes.\n",
      " |  \n",
      " |  __str__(self, /)\n",
      " |      Return str(self).\n",
      " |  \n",
      " |  capitalize(self, /)\n",
      " |      Return a capitalized version of the string.\n",
      " |      \n",
      " |      More specifically, make the first character have upper case and the rest lower\n",
      " |      case.\n",
      " |  \n",
      " |  casefold(self, /)\n",
      " |      Return a version of the string suitable for caseless comparisons.\n",
      " |  \n",
      " |  center(self, width, fillchar=' ', /)\n",
      " |      Return a centered string of length width.\n",
      " |      \n",
      " |      Padding is done using the specified fill character (default is a space).\n",
      " |  \n",
      " |  count(...)\n",
      " |      S.count(sub[, start[, end]]) -> int\n",
      " |      \n",
      " |      Return the number of non-overlapping occurrences of substring sub in\n",
      " |      string S[start:end].  Optional arguments start and end are\n",
      " |      interpreted as in slice notation.\n",
      " |  \n",
      " |  encode(self, /, encoding='utf-8', errors='strict')\n",
      " |      Encode the string using the codec registered for encoding.\n",
      " |      \n",
      " |      encoding\n",
      " |        The encoding in which to encode the string.\n",
      " |      errors\n",
      " |        The error handling scheme to use for encoding errors.\n",
      " |        The default is 'strict' meaning that encoding errors raise a\n",
      " |        UnicodeEncodeError.  Other possible values are 'ignore', 'replace' and\n",
      " |        'xmlcharrefreplace' as well as any other name registered with\n",
      " |        codecs.register_error that can handle UnicodeEncodeErrors.\n",
      " |  \n",
      " |  endswith(...)\n",
      " |      S.endswith(suffix[, start[, end]]) -> bool\n",
      " |      \n",
      " |      Return True if S ends with the specified suffix, False otherwise.\n",
      " |      With optional start, test S beginning at that position.\n",
      " |      With optional end, stop comparing S at that position.\n",
      " |      suffix can also be a tuple of strings to try.\n",
      " |  \n",
      " |  expandtabs(self, /, tabsize=8)\n",
      " |      Return a copy where all tab characters are expanded using spaces.\n",
      " |      \n",
      " |      If tabsize is not given, a tab size of 8 characters is assumed.\n",
      " |  \n",
      " |  find(...)\n",
      " |      S.find(sub[, start[, end]]) -> int\n",
      " |      \n",
      " |      Return the lowest index in S where substring sub is found,\n",
      " |      such that sub is contained within S[start:end].  Optional\n",
      " |      arguments start and end are interpreted as in slice notation.\n",
      " |      \n",
      " |      Return -1 on failure.\n",
      " |  \n",
      " |  format(...)\n",
      " |      S.format(*args, **kwargs) -> str\n",
      " |      \n",
      " |      Return a formatted version of S, using substitutions from args and kwargs.\n",
      " |      The substitutions are identified by braces ('{' and '}').\n",
      " |  \n",
      " |  format_map(...)\n",
      " |      S.format_map(mapping) -> str\n",
      " |      \n",
      " |      Return a formatted version of S, using substitutions from mapping.\n",
      " |      The substitutions are identified by braces ('{' and '}').\n",
      " |  \n",
      " |  index(...)\n",
      " |      S.index(sub[, start[, end]]) -> int\n",
      " |      \n",
      " |      Return the lowest index in S where substring sub is found,\n",
      " |      such that sub is contained within S[start:end].  Optional\n",
      " |      arguments start and end are interpreted as in slice notation.\n",
      " |      \n",
      " |      Raises ValueError when the substring is not found.\n",
      " |  \n",
      " |  isalnum(self, /)\n",
      " |      Return True if the string is an alpha-numeric string, False otherwise.\n",
      " |      \n",
      " |      A string is alpha-numeric if all characters in the string are alpha-numeric and\n",
      " |      there is at least one character in the string.\n",
      " |  \n",
      " |  isalpha(self, /)\n",
      " |      Return True if the string is an alphabetic string, False otherwise.\n",
      " |      \n",
      " |      A string is alphabetic if all characters in the string are alphabetic and there\n",
      " |      is at least one character in the string.\n",
      " |  \n",
      " |  isascii(self, /)\n",
      " |      Return True if all characters in the string are ASCII, False otherwise.\n",
      " |      \n",
      " |      ASCII characters have code points in the range U+0000-U+007F.\n",
      " |      Empty string is ASCII too.\n",
      " |  \n",
      " |  isdecimal(self, /)\n",
      " |      Return True if the string is a decimal string, False otherwise.\n",
      " |      \n",
      " |      A string is a decimal string if all characters in the string are decimal and\n",
      " |      there is at least one character in the string.\n",
      " |  \n",
      " |  isdigit(self, /)\n",
      " |      Return True if the string is a digit string, False otherwise.\n",
      " |      \n",
      " |      A string is a digit string if all characters in the string are digits and there\n",
      " |      is at least one character in the string.\n",
      " |  \n",
      " |  isidentifier(self, /)\n",
      " |      Return True if the string is a valid Python identifier, False otherwise.\n",
      " |      \n",
      " |      Call keyword.iskeyword(s) to test whether string s is a reserved identifier,\n",
      " |      such as \"def\" or \"class\".\n",
      " |  \n",
      " |  islower(self, /)\n",
      " |      Return True if the string is a lowercase string, False otherwise.\n",
      " |      \n",
      " |      A string is lowercase if all cased characters in the string are lowercase and\n",
      " |      there is at least one cased character in the string.\n",
      " |  \n",
      " |  isnumeric(self, /)\n",
      " |      Return True if the string is a numeric string, False otherwise.\n",
      " |      \n",
      " |      A string is numeric if all characters in the string are numeric and there is at\n",
      " |      least one character in the string.\n",
      " |  \n",
      " |  isprintable(self, /)\n",
      " |      Return True if the string is printable, False otherwise.\n",
      " |      \n",
      " |      A string is printable if all of its characters are considered printable in\n",
      " |      repr() or if it is empty.\n",
      " |  \n",
      " |  isspace(self, /)\n",
      " |      Return True if the string is a whitespace string, False otherwise.\n",
      " |      \n",
      " |      A string is whitespace if all characters in the string are whitespace and there\n",
      " |      is at least one character in the string.\n",
      " |  \n",
      " |  istitle(self, /)\n",
      " |      Return True if the string is a title-cased string, False otherwise.\n",
      " |      \n",
      " |      In a title-cased string, upper- and title-case characters may only\n",
      " |      follow uncased characters and lowercase characters only cased ones.\n",
      " |  \n",
      " |  isupper(self, /)\n",
      " |      Return True if the string is an uppercase string, False otherwise.\n",
      " |      \n",
      " |      A string is uppercase if all cased characters in the string are uppercase and\n",
      " |      there is at least one cased character in the string.\n",
      " |  \n",
      " |  join(self, iterable, /)\n",
      " |      Concatenate any number of strings.\n",
      " |      \n",
      " |      The string whose method is called is inserted in between each given string.\n",
      " |      The result is returned as a new string.\n",
      " |      \n",
      " |      Example: '.'.join(['ab', 'pq', 'rs']) -> 'ab.pq.rs'\n",
      " |  \n",
      " |  ljust(self, width, fillchar=' ', /)\n",
      " |      Return a left-justified string of length width.\n",
      " |      \n",
      " |      Padding is done using the specified fill character (default is a space).\n",
      " |  \n",
      " |  lower(self, /)\n",
      " |      Return a copy of the string converted to lowercase.\n",
      " |  \n",
      " |  lstrip(self, chars=None, /)\n",
      " |      Return a copy of the string with leading whitespace removed.\n",
      " |      \n",
      " |      If chars is given and not None, remove characters in chars instead.\n",
      " |  \n",
      " |  partition(self, sep, /)\n",
      " |      Partition the string into three parts using the given separator.\n",
      " |      \n",
      " |      This will search for the separator in the string.  If the separator is found,\n",
      " |      returns a 3-tuple containing the part before the separator, the separator\n",
      " |      itself, and the part after it.\n",
      " |      \n",
      " |      If the separator is not found, returns a 3-tuple containing the original string\n",
      " |      and two empty strings.\n",
      " |  \n",
      " |  removeprefix(self, prefix, /)\n",
      " |      Return a str with the given prefix string removed if present.\n",
      " |      \n",
      " |      If the string starts with the prefix string, return string[len(prefix):].\n",
      " |      Otherwise, return a copy of the original string.\n",
      " |  \n",
      " |  removesuffix(self, suffix, /)\n",
      " |      Return a str with the given suffix string removed if present.\n",
      " |      \n",
      " |      If the string ends with the suffix string and that suffix is not empty,\n",
      " |      return string[:-len(suffix)]. Otherwise, return a copy of the original\n",
      " |      string.\n",
      " |  \n",
      " |  replace(self, old, new, count=-1, /)\n",
      " |      Return a copy with all occurrences of substring old replaced by new.\n",
      " |      \n",
      " |        count\n",
      " |          Maximum number of occurrences to replace.\n",
      " |          -1 (the default value) means replace all occurrences.\n",
      " |      \n",
      " |      If the optional argument count is given, only the first count occurrences are\n",
      " |      replaced.\n",
      " |  \n",
      " |  rfind(...)\n",
      " |      S.rfind(sub[, start[, end]]) -> int\n",
      " |      \n",
      " |      Return the highest index in S where substring sub is found,\n",
      " |      such that sub is contained within S[start:end].  Optional\n",
      " |      arguments start and end are interpreted as in slice notation.\n",
      " |      \n",
      " |      Return -1 on failure.\n",
      " |  \n",
      " |  rindex(...)\n",
      " |      S.rindex(sub[, start[, end]]) -> int\n",
      " |      \n",
      " |      Return the highest index in S where substring sub is found,\n",
      " |      such that sub is contained within S[start:end].  Optional\n",
      " |      arguments start and end are interpreted as in slice notation.\n",
      " |      \n",
      " |      Raises ValueError when the substring is not found.\n",
      " |  \n",
      " |  rjust(self, width, fillchar=' ', /)\n",
      " |      Return a right-justified string of length width.\n",
      " |      \n",
      " |      Padding is done using the specified fill character (default is a space).\n",
      " |  \n",
      " |  rpartition(self, sep, /)\n",
      " |      Partition the string into three parts using the given separator.\n",
      " |      \n",
      " |      This will search for the separator in the string, starting at the end. If\n",
      " |      the separator is found, returns a 3-tuple containing the part before the\n",
      " |      separator, the separator itself, and the part after it.\n",
      " |      \n",
      " |      If the separator is not found, returns a 3-tuple containing two empty strings\n",
      " |      and the original string.\n",
      " |  \n",
      " |  rsplit(self, /, sep=None, maxsplit=-1)\n",
      " |      Return a list of the substrings in the string, using sep as the separator string.\n",
      " |      \n",
      " |        sep\n",
      " |          The separator used to split the string.\n",
      " |      \n",
      " |          When set to None (the default value), will split on any whitespace\n",
      " |          character (including \\\\n \\\\r \\\\t \\\\f and spaces) and will discard\n",
      " |          empty strings from the result.\n",
      " |        maxsplit\n",
      " |          Maximum number of splits (starting from the left).\n",
      " |          -1 (the default value) means no limit.\n",
      " |      \n",
      " |      Splitting starts at the end of the string and works to the front.\n",
      " |  \n",
      " |  rstrip(self, chars=None, /)\n",
      " |      Return a copy of the string with trailing whitespace removed.\n",
      " |      \n",
      " |      If chars is given and not None, remove characters in chars instead.\n",
      " |  \n",
      " |  split(self, /, sep=None, maxsplit=-1)\n",
      " |      Return a list of the substrings in the string, using sep as the separator string.\n",
      " |      \n",
      " |        sep\n",
      " |          The separator used to split the string.\n",
      " |      \n",
      " |          When set to None (the default value), will split on any whitespace\n",
      " |          character (including \\\\n \\\\r \\\\t \\\\f and spaces) and will discard\n",
      " |          empty strings from the result.\n",
      " |        maxsplit\n",
      " |          Maximum number of splits (starting from the left).\n",
      " |          -1 (the default value) means no limit.\n",
      " |      \n",
      " |      Note, str.split() is mainly useful for data that has been intentionally\n",
      " |      delimited.  With natural text that includes punctuation, consider using\n",
      " |      the regular expression module.\n",
      " |  \n",
      " |  splitlines(self, /, keepends=False)\n",
      " |      Return a list of the lines in the string, breaking at line boundaries.\n",
      " |      \n",
      " |      Line breaks are not included in the resulting list unless keepends is given and\n",
      " |      true.\n",
      " |  \n",
      " |  startswith(...)\n",
      " |      S.startswith(prefix[, start[, end]]) -> bool\n",
      " |      \n",
      " |      Return True if S starts with the specified prefix, False otherwise.\n",
      " |      With optional start, test S beginning at that position.\n",
      " |      With optional end, stop comparing S at that position.\n",
      " |      prefix can also be a tuple of strings to try.\n",
      " |  \n",
      " |  strip(self, chars=None, /)\n",
      " |      Return a copy of the string with leading and trailing whitespace removed.\n",
      " |      \n",
      " |      If chars is given and not None, remove characters in chars instead.\n",
      " |  \n",
      " |  swapcase(self, /)\n",
      " |      Convert uppercase characters to lowercase and lowercase characters to uppercase.\n",
      " |  \n",
      " |  title(self, /)\n",
      " |      Return a version of the string where each word is titlecased.\n",
      " |      \n",
      " |      More specifically, words start with uppercased characters and all remaining\n",
      " |      cased characters have lower case.\n",
      " |  \n",
      " |  translate(self, table, /)\n",
      " |      Replace each character in the string using the given translation table.\n",
      " |      \n",
      " |        table\n",
      " |          Translation table, which must be a mapping of Unicode ordinals to\n",
      " |          Unicode ordinals, strings, or None.\n",
      " |      \n",
      " |      The table must implement lookup/indexing via __getitem__, for instance a\n",
      " |      dictionary or list.  If this operation raises LookupError, the character is\n",
      " |      left untouched.  Characters mapped to None are deleted.\n",
      " |  \n",
      " |  upper(self, /)\n",
      " |      Return a copy of the string converted to uppercase.\n",
      " |  \n",
      " |  zfill(self, width, /)\n",
      " |      Pad a numeric string with zeros on the left, to fill a field of the given width.\n",
      " |      \n",
      " |      The string is never truncated.\n",
      " |  \n",
      " |  ----------------------------------------------------------------------\n",
      " |  Static methods defined here:\n",
      " |  \n",
      " |  __new__(*args, **kwargs) from builtins.type\n",
      " |      Create and return a new object.  See help(type) for accurate signature.\n",
      " |  \n",
      " |  maketrans(...)\n",
      " |      Return a translation table usable for str.translate().\n",
      " |      \n",
      " |      If there is only one argument, it must be a dictionary mapping Unicode\n",
      " |      ordinals (integers) or characters to Unicode ordinals, strings or None.\n",
      " |      Character keys will be then converted to ordinals.\n",
      " |      If there are two arguments, they must be strings of equal length, and\n",
      " |      in the resulting dictionary, each character in x will be mapped to the\n",
      " |      character at the same position in y. If there is a third argument, it\n",
      " |      must be a string, whose characters will be mapped to None in the result.\n",
      "\n"
     ]
    }
   ],
   "source": [
    "help(str)"
   ]
  },
  {
   "cell_type": "code",
   "execution_count": 15,
   "metadata": {
    "colab": {
     "base_uri": "https://localhost:8080/"
    },
    "id": "sQYB9E6TgflU",
    "outputId": "f93b9372-6f3e-406f-f2da-213783f027bb"
   },
   "outputs": [
    {
     "data": {
      "text/plain": [
       "['Data', 'Analyst']"
      ]
     },
     "execution_count": 15,
     "metadata": {},
     "output_type": "execute_result"
    }
   ],
   "source": [
    "\"Data Analyst\".upper()\n",
    "\"Data Analyst\".__len__()\n",
    "\"Data Analyst\".replace(\"a\", \"o\", 2)\n",
    "\"Data Analyst\".split(\" \")"
   ]
  },
  {
   "cell_type": "code",
   "execution_count": null,
   "metadata": {
    "id": "l17vRD595l6l"
   },
   "outputs": [],
   "source": []
  },
  {
   "cell_type": "markdown",
   "metadata": {
    "id": "ng1yLSYt6qIa"
   },
   "source": [
    "# string formatting\n"
   ]
  },
  {
   "cell_type": "code",
   "execution_count": 16,
   "metadata": {
    "id": "SqaX1goT6wSP"
   },
   "outputs": [],
   "source": [
    "role = \"Data Analyst\"\n",
    "skill = \"Python\""
   ]
  },
  {
   "cell_type": "code",
   "execution_count": 17,
   "metadata": {
    "colab": {
     "base_uri": "https://localhost:8080/",
     "height": 36
    },
    "id": "jg1a_rAO7bOb",
    "outputId": "21261a44-d577-4d95-c61b-1e5cb8ad57ce"
   },
   "outputs": [
    {
     "data": {
      "text/plain": [
       "'Role: Data Analyst; Skill Required: Python'"
      ]
     },
     "execution_count": 17,
     "metadata": {},
     "output_type": "execute_result"
    }
   ],
   "source": [
    "# create the string \"Role: Data Analyst\"\n",
    "\n",
    "\"Role: {}\".format(role)\n",
    "\"Role: {}; Skill Required: {}\".format(role, skill)\n",
    "#\"Role: {}; Skill Required: {}\".format(role=role, skill=skill)"
   ]
  },
  {
   "cell_type": "code",
   "execution_count": 18,
   "metadata": {
    "colab": {
     "base_uri": "https://localhost:8080/",
     "height": 36
    },
    "id": "BmXmhYI375RI",
    "outputId": "b408044c-1df6-4e15-ffc5-7bfc79172f32"
   },
   "outputs": [
    {
     "data": {
      "text/plain": [
       "'Role: Data Analyst; Skill Required: Python'"
      ]
     },
     "execution_count": 18,
     "metadata": {},
     "output_type": "execute_result"
    }
   ],
   "source": [
    "f\"Role: {role}; Skill Required: {skill}\" # f string"
   ]
  },
  {
   "cell_type": "code",
   "execution_count": 19,
   "metadata": {
    "colab": {
     "base_uri": "https://localhost:8080/",
     "height": 36
    },
    "id": "As0MqLcj8KTi",
    "outputId": "d8ff87bf-cb3a-4f16-87aa-ef0809824230"
   },
   "outputs": [
    {
     "data": {
      "text/plain": [
       "'Role: Data Analyst; Skill Required: Python'"
      ]
     },
     "execution_count": 19,
     "metadata": {},
     "output_type": "execute_result"
    }
   ],
   "source": [
    "# % formatting\n",
    "\n",
    "\"Role: %s; Skill Required: %s\" % (role, skill)"
   ]
  },
  {
   "cell_type": "code",
   "execution_count": 20,
   "metadata": {
    "colab": {
     "base_uri": "https://localhost:8080/",
     "height": 36
    },
    "id": "MWnwGF1v8gF9",
    "outputId": "9e2861d4-4e59-48f2-e4b0-889a77c70697"
   },
   "outputs": [
    {
     "data": {
      "text/plain": [
       "'0, 1, 2, 3, 4, 5, 6, 7, 8, 9'"
      ]
     },
     "execution_count": 20,
     "metadata": {},
     "output_type": "execute_result"
    }
   ],
   "source": [
    "# join method\n",
    "\n",
    "years_experience = '0123456789'\n",
    "', '.join(years_experience)"
   ]
  },
  {
   "cell_type": "code",
   "execution_count": 21,
   "metadata": {
    "colab": {
     "base_uri": "https://localhost:8080/",
     "height": 36
    },
    "id": "ply1bIU_8548",
    "outputId": "d9ff7a52-f5f0-413c-c1db-021150cfa3aa"
   },
   "outputs": [
    {
     "data": {
      "text/plain": [
       "'Python, SQL, Excel'"
      ]
     },
     "execution_count": 21,
     "metadata": {},
     "output_type": "execute_result"
    }
   ],
   "source": [
    "skills = [\"Python\", \"SQL\", \"Excel\"]\n",
    "', '.join(skills)"
   ]
  },
  {
   "cell_type": "code",
   "execution_count": null,
   "metadata": {
    "id": "ZCw2xbAD9Cko"
   },
   "outputs": [],
   "source": []
  },
  {
   "cell_type": "markdown",
   "metadata": {
    "id": "TN5mIZao9JUp"
   },
   "source": [
    "# operators"
   ]
  },
  {
   "cell_type": "code",
   "execution_count": 22,
   "metadata": {
    "colab": {
     "base_uri": "https://localhost:8080/",
     "height": 54
    },
    "id": "MeGKt8em9Mkv",
    "outputId": "df1f8819-105f-43b3-c988-317c4d0d0654"
   },
   "outputs": [
    {
     "data": {
      "text/plain": [
       "\"what's up?what's up?what's up?what's up?what's up?what's up?what's up?what's up?what's up?what's up?\""
      ]
     },
     "execution_count": 22,
     "metadata": {},
     "output_type": "execute_result"
    }
   ],
   "source": [
    "\"what's up?\" * 10"
   ]
  },
  {
   "cell_type": "code",
   "execution_count": 23,
   "metadata": {
    "colab": {
     "base_uri": "https://localhost:8080/"
    },
    "id": "LwwKCIwT9SyO",
    "outputId": "15a0963c-81a6-4f6b-eada-2b56cf897e89"
   },
   "outputs": [
    {
     "name": "stdout",
     "output_type": "stream",
     "text": [
      "35000.0\n"
     ]
    }
   ],
   "source": [
    "min_salary = 20_000\n",
    "max_salary = 50_000\n",
    "\n",
    "avg_salary = (min_salary + max_salary) / 2\n",
    "\n",
    "print(avg_salary)"
   ]
  },
  {
   "cell_type": "code",
   "execution_count": 24,
   "metadata": {
    "colab": {
     "base_uri": "https://localhost:8080/"
    },
    "id": "GqrzzQHaBZaH",
    "outputId": "1a9497bf-15d6-4836-cd01-74dc8223566c"
   },
   "outputs": [
    {
     "name": "stdout",
     "output_type": "stream",
     "text": [
      "Shelly Kelly\n"
     ]
    }
   ],
   "source": [
    "# switch values\n",
    "applicant_1 = \"Kelly\"\n",
    "applicant_2 = \"Shelly\"\n",
    "\n",
    "applicant_1, applicant_2 = applicant_2, applicant_1\n",
    "print(applicant_1, applicant_2)"
   ]
  },
  {
   "cell_type": "code",
   "execution_count": 25,
   "metadata": {
    "id": "ejOIgN8cByLi"
   },
   "outputs": [],
   "source": [
    "x = 1\n",
    "\n",
    "x += 3\n",
    "x *= 3"
   ]
  },
  {
   "cell_type": "code",
   "execution_count": 26,
   "metadata": {
    "colab": {
     "base_uri": "https://localhost:8080/"
    },
    "id": "yhRACZEiCGuK",
    "outputId": "df4a4146-0bd4-4429-ecea-94974e96d648"
   },
   "outputs": [
    {
     "data": {
      "text/plain": [
       "12"
      ]
     },
     "execution_count": 26,
     "metadata": {},
     "output_type": "execute_result"
    }
   ],
   "source": [
    "x"
   ]
  },
  {
   "cell_type": "code",
   "execution_count": 27,
   "metadata": {
    "id": "TQmEJfziCHKL"
   },
   "outputs": [],
   "source": [
    "salary_kelly = 20_000\n",
    "salary_luke = 30_000"
   ]
  },
  {
   "cell_type": "code",
   "execution_count": 28,
   "metadata": {
    "colab": {
     "base_uri": "https://localhost:8080/"
    },
    "id": "6V5CX9oCCSGx",
    "outputId": "af48e488-b7e1-4e17-bd6f-75dfcf410178"
   },
   "outputs": [
    {
     "data": {
      "text/plain": [
       "False"
      ]
     },
     "execution_count": 28,
     "metadata": {},
     "output_type": "execute_result"
    }
   ],
   "source": [
    "salary_kelly == salary_luke"
   ]
  },
  {
   "cell_type": "markdown",
   "metadata": {
    "id": "uc6E54OrQ1yA"
   },
   "source": [
    "## logical operators\n",
    "\n",
    "- x and y\n",
    "- x or y\n",
    "- not x"
   ]
  },
  {
   "cell_type": "code",
   "execution_count": 29,
   "metadata": {
    "id": "xq5DV1J-CU7N"
   },
   "outputs": [],
   "source": [
    "wfh = True\n",
    "good_salary = False\n",
    "health_insurance = True"
   ]
  },
  {
   "cell_type": "code",
   "execution_count": 30,
   "metadata": {
    "colab": {
     "base_uri": "https://localhost:8080/"
    },
    "id": "pncxVeZaQ_CY",
    "outputId": "41a806e5-9c31-4e3b-aa80-b398da435078"
   },
   "outputs": [
    {
     "data": {
      "text/plain": [
       "False"
      ]
     },
     "execution_count": 30,
     "metadata": {},
     "output_type": "execute_result"
    }
   ],
   "source": [
    "wfh and good_salary"
   ]
  },
  {
   "cell_type": "code",
   "execution_count": 31,
   "metadata": {
    "colab": {
     "base_uri": "https://localhost:8080/"
    },
    "id": "Y0MpD_ivQ-vY",
    "outputId": "e6564ad1-43e2-4547-c815-7c245500fbeb"
   },
   "outputs": [
    {
     "data": {
      "text/plain": [
       "True"
      ]
     },
     "execution_count": 31,
     "metadata": {},
     "output_type": "execute_result"
    }
   ],
   "source": [
    "wfh or good_salary"
   ]
  },
  {
   "cell_type": "code",
   "execution_count": 32,
   "metadata": {
    "colab": {
     "base_uri": "https://localhost:8080/"
    },
    "id": "dRDv63ouRQRj",
    "outputId": "f5fee147-3c6c-408a-dde5-0aabdcd657bf"
   },
   "outputs": [
    {
     "name": "stdout",
     "output_type": "stream",
     "text": [
      "salary isn't good enough. Rejecting job...😎\n"
     ]
    }
   ],
   "source": [
    "if not good_salary:\n",
    "  print(\"salary isn't good enough. Rejecting job...😎\")"
   ]
  },
  {
   "cell_type": "markdown",
   "metadata": {
    "id": "57ThbHH2Sc-S"
   },
   "source": [
    "## membership operators\n",
    "\n",
    "- x in y\n",
    "- x not in y"
   ]
  },
  {
   "cell_type": "code",
   "execution_count": 33,
   "metadata": {
    "colab": {
     "base_uri": "https://localhost:8080/"
    },
    "id": "IiRWSidaSQSa",
    "outputId": "3d3a5e79-9150-4ead-a37a-00a61a7a6945"
   },
   "outputs": [
    {
     "data": {
      "text/plain": [
       "True"
      ]
     },
     "execution_count": 33,
     "metadata": {},
     "output_type": "execute_result"
    }
   ],
   "source": [
    "\"Data\" in \"Data Nerd\""
   ]
  },
  {
   "cell_type": "code",
   "execution_count": 34,
   "metadata": {
    "colab": {
     "base_uri": "https://localhost:8080/"
    },
    "id": "yjGV6UKnSlcQ",
    "outputId": "03a98e91-ba60-4b78-fe15-dc5db8fdf00e"
   },
   "outputs": [
    {
     "data": {
      "text/plain": [
       "True"
      ]
     },
     "execution_count": 34,
     "metadata": {},
     "output_type": "execute_result"
    }
   ],
   "source": [
    "autobots = [\"Optimus Prime\", \"Bumblebee\", \"Megatron\", \"Starscream\"]\n",
    "\n",
    "\"Optimus Prime\" in autobots"
   ]
  },
  {
   "cell_type": "markdown",
   "metadata": {
    "id": "wrs9aKYBSwwz"
   },
   "source": [
    "## identity operators\n",
    "\n",
    "> checks if both objects using the same memory location\n",
    "\n",
    "- x is y\n",
    "- x is not y"
   ]
  },
  {
   "cell_type": "code",
   "execution_count": 35,
   "metadata": {
    "id": "VwAlz4JwS2oS"
   },
   "outputs": [],
   "source": [
    "salary_kelly = 20_000\n",
    "salary_luke = 20_000"
   ]
  },
  {
   "cell_type": "code",
   "execution_count": 36,
   "metadata": {
    "colab": {
     "base_uri": "https://localhost:8080/"
    },
    "id": "U_AAuTTsS9kN",
    "outputId": "b0a3eb14-fcbe-497d-e01c-fbfdad21cbfe"
   },
   "outputs": [
    {
     "data": {
      "text/plain": [
       "False"
      ]
     },
     "execution_count": 36,
     "metadata": {},
     "output_type": "execute_result"
    }
   ],
   "source": [
    "salary_kelly is salary_luke"
   ]
  },
  {
   "cell_type": "code",
   "execution_count": 37,
   "metadata": {
    "colab": {
     "base_uri": "https://localhost:8080/"
    },
    "id": "RuahyaN_TrzY",
    "outputId": "29207bc2-c18d-4980-dd88-30175d3f18a0"
   },
   "outputs": [
    {
     "data": {
      "text/plain": [
       "True"
      ]
     },
     "execution_count": 37,
     "metadata": {},
     "output_type": "execute_result"
    }
   ],
   "source": [
    "planets = [\"earth\", \"venus\", \"pluto\"]\n",
    "planets_copy = planets\n",
    "\n",
    "planets is planets_copy # now both refer to same memory location."
   ]
  },
  {
   "cell_type": "markdown",
   "metadata": {
    "id": "BwdOk-kVUAIA"
   },
   "source": [
    "## bitwise operators\n",
    "\n",
    "- x & y\n",
    "- x | y\n",
    "- x ^ y\n",
    "- ~x\n",
    "- x << y\n",
    "- x >> y"
   ]
  },
  {
   "cell_type": "markdown",
   "metadata": {
    "id": "SpNV_q-FCfO1"
   },
   "source": [
    "# conditionals"
   ]
  },
  {
   "cell_type": "code",
   "execution_count": 38,
   "metadata": {
    "colab": {
     "base_uri": "https://localhost:8080/"
    },
    "id": "XqnPvWThCiYp",
    "outputId": "0003c283-effc-4804-f441-3a0a228f90d4"
   },
   "outputs": [
    {
     "name": "stdout",
     "output_type": "stream",
     "text": [
      "this is true\n"
     ]
    }
   ],
   "source": [
    "if True:\n",
    "  print(\"this is true\")"
   ]
  },
  {
   "cell_type": "code",
   "execution_count": 39,
   "metadata": {
    "colab": {
     "base_uri": "https://localhost:8080/"
    },
    "id": "YDnfzcW1ClUU",
    "outputId": "7efe677d-c868-4d09-d6a9-4513ae99663c"
   },
   "outputs": [
    {
     "name": "stdout",
     "output_type": "stream",
     "text": [
      "else we all die.\n"
     ]
    }
   ],
   "source": [
    "if False:\n",
    "  print(\"lalalala\")\n",
    "else:\n",
    "  print(\"else we all die.\")"
   ]
  },
  {
   "cell_type": "code",
   "execution_count": 40,
   "metadata": {
    "id": "jveZV8M1Cuwp"
   },
   "outputs": [],
   "source": [
    "job_skill = \"SQL\"\n",
    "applicant_skill = \"SQL\""
   ]
  },
  {
   "cell_type": "code",
   "execution_count": 41,
   "metadata": {
    "colab": {
     "base_uri": "https://localhost:8080/"
    },
    "id": "oV4oS3hdDHsZ",
    "outputId": "6438b169-c34c-43bc-cb49-ae6184dd3c0b"
   },
   "outputs": [
    {
     "name": "stdout",
     "output_type": "stream",
     "text": [
      "proceed to interview\n"
     ]
    }
   ],
   "source": [
    "if job_skill == applicant_skill:\n",
    "  print(\"proceed to interview\")"
   ]
  },
  {
   "cell_type": "code",
   "execution_count": 42,
   "metadata": {
    "colab": {
     "base_uri": "https://localhost:8080/"
    },
    "id": "meyi7H5JDXE2",
    "outputId": "570c5b1e-5fee-49df-b03b-1a8d5a6e98ae"
   },
   "outputs": [
    {
     "name": "stdout",
     "output_type": "stream",
     "text": [
      "send candidate to the gulag\n"
     ]
    }
   ],
   "source": [
    "applicant_skill = \"Python\"\n",
    "years_exp = 3\n",
    "\n",
    "if job_skill == applicant_skill:\n",
    "  print(\"proceed to interview\")\n",
    "elif years_exp >= 5:\n",
    "  print(\"experienced in bs\")\n",
    "else:\n",
    "  print(\"send candidate to the gulag\")"
   ]
  },
  {
   "cell_type": "code",
   "execution_count": 43,
   "metadata": {
    "id": "6SWLrPKCDe_K"
   },
   "outputs": [],
   "source": [
    "# pass -> leave for later\n",
    "# !pass -> error\n",
    "if applicant_skill == \"JavaScript\":\n",
    "  pass"
   ]
  },
  {
   "cell_type": "markdown",
   "metadata": {
    "id": "-zuvCcKzQDv3"
   },
   "source": [
    "# container data types"
   ]
  },
  {
   "cell_type": "markdown",
   "metadata": {
    "id": "buQfa2PrEnSQ"
   },
   "source": [
    "## Lists"
   ]
  },
  {
   "cell_type": "code",
   "execution_count": 44,
   "metadata": {
    "id": "CaCXOI8TErRc"
   },
   "outputs": [],
   "source": [
    "my_list = [1, 2, 3, 4]"
   ]
  },
  {
   "cell_type": "code",
   "execution_count": 45,
   "metadata": {
    "id": "LuMdB_o1E4JH"
   },
   "outputs": [],
   "source": [
    "job_skills = [\"sql\", \"power bi\", \"leadership\"]"
   ]
  },
  {
   "cell_type": "code",
   "execution_count": 46,
   "metadata": {
    "id": "-twKjlu4E8oA"
   },
   "outputs": [],
   "source": [
    "job_skills.append(\"python\")"
   ]
  },
  {
   "cell_type": "code",
   "execution_count": 47,
   "metadata": {
    "colab": {
     "base_uri": "https://localhost:8080/"
    },
    "id": "QzkasZhQFDBw",
    "outputId": "01b869ab-fc73-4f5c-e7ca-00e454453816"
   },
   "outputs": [
    {
     "data": {
      "text/plain": [
       "['sql', 'power bi', 'leadership', 'python']"
      ]
     },
     "execution_count": 47,
     "metadata": {},
     "output_type": "execute_result"
    }
   ],
   "source": [
    "job_skills"
   ]
  },
  {
   "cell_type": "code",
   "execution_count": 48,
   "metadata": {
    "colab": {
     "base_uri": "https://localhost:8080/"
    },
    "id": "iHwB2Cl1FH_b",
    "outputId": "1610078a-4458-4ec9-a27d-34fd972dda4a"
   },
   "outputs": [
    {
     "data": {
      "text/plain": [
       "['sql', 'power bi', 'python']"
      ]
     },
     "execution_count": 48,
     "metadata": {},
     "output_type": "execute_result"
    }
   ],
   "source": [
    "job_skills.remove(\"leadership\")\n",
    "job_skills"
   ]
  },
  {
   "cell_type": "code",
   "execution_count": 49,
   "metadata": {
    "colab": {
     "base_uri": "https://localhost:8080/"
    },
    "id": "5k1C20oxFMN-",
    "outputId": "3638b224-e5a2-4340-fb3e-0f7ac97ec7b5"
   },
   "outputs": [
    {
     "data": {
      "text/plain": [
       "3"
      ]
     },
     "execution_count": 49,
     "metadata": {},
     "output_type": "execute_result"
    }
   ],
   "source": [
    "len(job_skills)"
   ]
  },
  {
   "cell_type": "code",
   "execution_count": 50,
   "metadata": {
    "colab": {
     "base_uri": "https://localhost:8080/",
     "height": 36
    },
    "id": "kSl67F8rFP7I",
    "outputId": "357ec3b7-449e-48c2-ee99-3df54b330a6b"
   },
   "outputs": [
    {
     "data": {
      "text/plain": [
       "'python'"
      ]
     },
     "execution_count": 50,
     "metadata": {},
     "output_type": "execute_result"
    }
   ],
   "source": [
    "job_skills[2]"
   ]
  },
  {
   "cell_type": "code",
   "execution_count": 51,
   "metadata": {
    "colab": {
     "base_uri": "https://localhost:8080/"
    },
    "id": "nu4yP_vHFsrW",
    "outputId": "3f940309-9c23-4d8a-ddfc-287608995cf4"
   },
   "outputs": [
    {
     "data": {
      "text/plain": [
       "['sql', 'power bi', 'leadership', 'python']"
      ]
     },
     "execution_count": 51,
     "metadata": {},
     "output_type": "execute_result"
    }
   ],
   "source": [
    "job_skills.insert(2, \"leadership\")\n",
    "job_skills"
   ]
  },
  {
   "cell_type": "code",
   "execution_count": 52,
   "metadata": {
    "colab": {
     "base_uri": "https://localhost:8080/"
    },
    "id": "-B5-fS85Fw8w",
    "outputId": "c1e8b04b-180c-4f6a-a4ea-ed70552d8e55"
   },
   "outputs": [
    {
     "data": {
      "text/plain": [
       "['sql', 'power bi', 'python']"
      ]
     },
     "execution_count": 52,
     "metadata": {},
     "output_type": "execute_result"
    }
   ],
   "source": [
    "job_skills.pop(2)\n",
    "job_skills"
   ]
  },
  {
   "cell_type": "code",
   "execution_count": 53,
   "metadata": {
    "colab": {
     "base_uri": "https://localhost:8080/"
    },
    "id": "M0GvIYg7F36C",
    "outputId": "6f475471-b134-4c70-8c9e-decff6577b45"
   },
   "outputs": [
    {
     "data": {
      "text/plain": [
       "['sql', 'power bi', 'python']"
      ]
     },
     "execution_count": 53,
     "metadata": {},
     "output_type": "execute_result"
    }
   ],
   "source": [
    "job_skills[0:3]"
   ]
  },
  {
   "cell_type": "code",
   "execution_count": 54,
   "metadata": {
    "colab": {
     "base_uri": "https://localhost:8080/"
    },
    "id": "6sZ9bqkTGIhW",
    "outputId": "420c2b4f-b35f-4ea0-e980-4d08070ddeb6"
   },
   "outputs": [
    {
     "data": {
      "text/plain": [
       "['sql', 'power bi', 'python']"
      ]
     },
     "execution_count": 54,
     "metadata": {},
     "output_type": "execute_result"
    }
   ],
   "source": [
    "job_skills[:]"
   ]
  },
  {
   "cell_type": "code",
   "execution_count": 55,
   "metadata": {
    "colab": {
     "base_uri": "https://localhost:8080/"
    },
    "id": "kagFz7jbGNKm",
    "outputId": "7ba227cf-c134-4f01-8cc1-acf83bdb0637"
   },
   "outputs": [
    {
     "data": {
      "text/plain": [
       "['sql']"
      ]
     },
     "execution_count": 55,
     "metadata": {},
     "output_type": "execute_result"
    }
   ],
   "source": [
    "job_skills[:1]"
   ]
  },
  {
   "cell_type": "code",
   "execution_count": null,
   "metadata": {
    "id": "ai1cF1OpGPLa"
   },
   "outputs": [],
   "source": []
  },
  {
   "cell_type": "code",
   "execution_count": 56,
   "metadata": {
    "colab": {
     "base_uri": "https://localhost:8080/"
    },
    "id": "BIciB9bDGYx0",
    "outputId": "aa5fa723-43cf-4360-a33a-000e9f8e7d6e"
   },
   "outputs": [
    {
     "data": {
      "text/plain": [
       "['sql', 'power bi', 'python', 'excel', 'tableau', 'communication', 'writing']"
      ]
     },
     "execution_count": 56,
     "metadata": {},
     "output_type": "execute_result"
    }
   ],
   "source": [
    "new_skills = [\"excel\", \"tableau\", \"communication\", \"writing\"]\n",
    "job_skills = job_skills + new_skills\n",
    "job_skills"
   ]
  },
  {
   "cell_type": "code",
   "execution_count": 57,
   "metadata": {
    "colab": {
     "base_uri": "https://localhost:8080/"
    },
    "id": "o-p3SWn5G8Cd",
    "outputId": "9c8a9f94-1fe6-4176-ee13-7ffc7e82eab5"
   },
   "outputs": [
    {
     "data": {
      "text/plain": [
       "['sql', 'excel', 'writing']"
      ]
     },
     "execution_count": 57,
     "metadata": {},
     "output_type": "execute_result"
    }
   ],
   "source": [
    "job_skills[::3] # view every second item"
   ]
  },
  {
   "cell_type": "code",
   "execution_count": 58,
   "metadata": {
    "colab": {
     "base_uri": "https://localhost:8080/"
    },
    "id": "ukLeFzZBHFI5",
    "outputId": "c68ba433-a98e-49bd-abeb-db4b9515d1d2"
   },
   "outputs": [
    {
     "data": {
      "text/plain": [
       "['communication', 'writing']"
      ]
     },
     "execution_count": 58,
     "metadata": {},
     "output_type": "execute_result"
    }
   ],
   "source": [
    "job_skills[-2:] # get last 2"
   ]
  },
  {
   "cell_type": "code",
   "execution_count": 59,
   "metadata": {
    "colab": {
     "base_uri": "https://localhost:8080/"
    },
    "id": "QZGInUNqHINi",
    "outputId": "75c4148e-f2d5-441a-d7ab-8ec4ab1457e5"
   },
   "outputs": [
    {
     "name": "stdout",
     "output_type": "stream",
     "text": [
      "sql power bi python\n"
     ]
    }
   ],
   "source": [
    "skill1, skill2, skill3 = job_skills[:3]\n",
    "print(skill1, skill2, skill3)"
   ]
  },
  {
   "cell_type": "code",
   "execution_count": 60,
   "metadata": {
    "colab": {
     "base_uri": "https://localhost:8080/"
    },
    "id": "Fbd6OAuHHRig",
    "outputId": "21d3a5a8-ac45-4d87-a8ac-7ff118764372"
   },
   "outputs": [
    {
     "name": "stdout",
     "output_type": "stream",
     "text": [
      "sql\n",
      "['power bi', 'python', 'excel', 'tableau', 'communication', 'writing']\n"
     ]
    }
   ],
   "source": [
    "# * is the unpack operator\n",
    "good_skills, *bad_skills = job_skills\n",
    "\n",
    "print(good_skills)\n",
    "print(bad_skills)"
   ]
  },
  {
   "cell_type": "markdown",
   "metadata": {
    "id": "3rmUk4QpIHGm"
   },
   "source": [
    "## Dictionary\n",
    "objects with key value pairs"
   ]
  },
  {
   "cell_type": "code",
   "execution_count": 61,
   "metadata": {
    "id": "BI7l4SUwINwJ"
   },
   "outputs": [],
   "source": [
    "job_type_skills = {\n",
    "    \"database\": \"postgresql\",\n",
    "    \"language\": \"python\",\n",
    "    \"library\": \"pandas\"\n",
    "}"
   ]
  },
  {
   "cell_type": "code",
   "execution_count": 62,
   "metadata": {
    "colab": {
     "base_uri": "https://localhost:8080/"
    },
    "id": "a9Pj6O9QJkqE",
    "outputId": "94f9da03-1845-4985-9791-4fd5c3cace64"
   },
   "outputs": [
    {
     "data": {
      "text/plain": [
       "{'database': 'postgresql', 'language': 'python', 'library': 'pandas'}"
      ]
     },
     "execution_count": 62,
     "metadata": {},
     "output_type": "execute_result"
    }
   ],
   "source": [
    "job_type_skills"
   ]
  },
  {
   "cell_type": "code",
   "execution_count": 63,
   "metadata": {
    "colab": {
     "base_uri": "https://localhost:8080/"
    },
    "id": "ri7LpmDMKUup",
    "outputId": "e1d1e8c6-6dad-40bd-f971-d2b6ce878ccc"
   },
   "outputs": [
    {
     "data": {
      "text/plain": [
       "dict"
      ]
     },
     "execution_count": 63,
     "metadata": {},
     "output_type": "execute_result"
    }
   ],
   "source": [
    "type(job_type_skills)"
   ]
  },
  {
   "cell_type": "code",
   "execution_count": 64,
   "metadata": {
    "colab": {
     "base_uri": "https://localhost:8080/",
     "height": 36
    },
    "id": "UBQ22qxWKWT2",
    "outputId": "394b0614-8f71-4f0b-a0fe-29438dd07ca0"
   },
   "outputs": [
    {
     "data": {
      "text/plain": [
       "'postgresql'"
      ]
     },
     "execution_count": 64,
     "metadata": {},
     "output_type": "execute_result"
    }
   ],
   "source": [
    "job_type_skills['database']"
   ]
  },
  {
   "cell_type": "code",
   "execution_count": 65,
   "metadata": {
    "colab": {
     "base_uri": "https://localhost:8080/"
    },
    "id": "Yj8GNumvKaXS",
    "outputId": "9c9e653c-7a5a-4abd-ed68-2068e02b8c42"
   },
   "outputs": [
    {
     "data": {
      "text/plain": [
       "dict_keys(['database', 'language', 'library'])"
      ]
     },
     "execution_count": 65,
     "metadata": {},
     "output_type": "execute_result"
    }
   ],
   "source": [
    "job_type_skills.keys()"
   ]
  },
  {
   "cell_type": "code",
   "execution_count": 66,
   "metadata": {
    "colab": {
     "base_uri": "https://localhost:8080/"
    },
    "id": "DHqAwqmvKc-g",
    "outputId": "6542d987-6511-49be-8400-0e8706badc52"
   },
   "outputs": [
    {
     "data": {
      "text/plain": [
       "dict_values(['postgresql', 'python', 'pandas'])"
      ]
     },
     "execution_count": 66,
     "metadata": {},
     "output_type": "execute_result"
    }
   ],
   "source": [
    "job_type_skills.values()"
   ]
  },
  {
   "cell_type": "code",
   "execution_count": 67,
   "metadata": {
    "colab": {
     "base_uri": "https://localhost:8080/",
     "height": 36
    },
    "id": "7Xth4FJkKiFK",
    "outputId": "6e9f0104-71f8-466e-8873-495e02daf2f1"
   },
   "outputs": [
    {
     "data": {
      "text/plain": [
       "'pandas'"
      ]
     },
     "execution_count": 67,
     "metadata": {},
     "output_type": "execute_result"
    }
   ],
   "source": [
    "job_type_skills.pop('library') # removes the specified key"
   ]
  },
  {
   "cell_type": "code",
   "execution_count": 68,
   "metadata": {
    "id": "lF_9Dh3aKqbP"
   },
   "outputs": [],
   "source": [
    "job_type_skills.update({ \"cloud\": \"google cloud\"})"
   ]
  },
  {
   "cell_type": "code",
   "execution_count": 69,
   "metadata": {
    "colab": {
     "base_uri": "https://localhost:8080/"
    },
    "id": "dOKWhB6WKrqx",
    "outputId": "5aa94dea-0699-40c3-d10c-e806ed97dd8e"
   },
   "outputs": [
    {
     "data": {
      "text/plain": [
       "{'database': 'postgresql', 'language': 'python', 'cloud': 'google cloud'}"
      ]
     },
     "execution_count": 69,
     "metadata": {},
     "output_type": "execute_result"
    }
   ],
   "source": [
    "job_type_skills"
   ]
  },
  {
   "cell_type": "code",
   "execution_count": 70,
   "metadata": {
    "id": "_7unTe3UK7T9"
   },
   "outputs": [],
   "source": [
    "job_type_skills['version_control'] = \"git\""
   ]
  },
  {
   "cell_type": "code",
   "execution_count": 71,
   "metadata": {
    "colab": {
     "base_uri": "https://localhost:8080/"
    },
    "id": "UM8sp3DmLCPa",
    "outputId": "68f66c01-bf70-41b2-99ee-32a4801004c5"
   },
   "outputs": [
    {
     "data": {
      "text/plain": [
       "{'database': 'postgresql',\n",
       " 'language': 'python',\n",
       " 'cloud': 'google cloud',\n",
       " 'version_control': 'git'}"
      ]
     },
     "execution_count": 71,
     "metadata": {},
     "output_type": "execute_result"
    }
   ],
   "source": [
    "job_type_skills"
   ]
  },
  {
   "cell_type": "markdown",
   "metadata": {
    "id": "PSMNbZsBLN5a"
   },
   "source": [
    "## sets\n",
    "\n",
    "- removes duplicate items\n",
    "- arranges items alphabatically\n"
   ]
  },
  {
   "cell_type": "code",
   "execution_count": 72,
   "metadata": {
    "colab": {
     "base_uri": "https://localhost:8080/"
    },
    "id": "Q3_hVqmKLVJ_",
    "outputId": "bc4686c0-e552-41b7-9f9c-1d6d8a3d434b"
   },
   "outputs": [
    {
     "data": {
      "text/plain": [
       "{'power bi', 'python', 'sql', 'tableau'}"
      ]
     },
     "execution_count": 72,
     "metadata": {},
     "output_type": "execute_result"
    }
   ],
   "source": [
    "job_skills_set = {\"python\", \"sql\", \"power bi\", \"python\", \"tableau\"}\n",
    "job_skills_set"
   ]
  },
  {
   "cell_type": "code",
   "execution_count": 73,
   "metadata": {
    "id": "ggHIh1GvLcn6"
   },
   "outputs": [],
   "source": [
    "job_skills_set.add(\"looker\")"
   ]
  },
  {
   "cell_type": "code",
   "execution_count": 74,
   "metadata": {
    "colab": {
     "base_uri": "https://localhost:8080/"
    },
    "id": "6KGmRMIZLkaj",
    "outputId": "99088da6-9c1d-4bbd-89f8-c50ca4ddbed2"
   },
   "outputs": [
    {
     "data": {
      "text/plain": [
       "{'looker', 'power bi', 'python', 'sql', 'tableau'}"
      ]
     },
     "execution_count": 74,
     "metadata": {},
     "output_type": "execute_result"
    }
   ],
   "source": [
    "job_skills_set"
   ]
  },
  {
   "cell_type": "code",
   "execution_count": 75,
   "metadata": {
    "colab": {
     "base_uri": "https://localhost:8080/",
     "height": 36
    },
    "id": "DjU_kj0SLlKB",
    "outputId": "47a405af-cf62-4c04-8afd-2f16d47f845f"
   },
   "outputs": [
    {
     "data": {
      "text/plain": [
       "'looker'"
      ]
     },
     "execution_count": 75,
     "metadata": {},
     "output_type": "execute_result"
    }
   ],
   "source": [
    "job_skills_set.pop() # sets have no index -> no arg for pop -> random value removed"
   ]
  },
  {
   "cell_type": "code",
   "execution_count": 76,
   "metadata": {
    "id": "bIfRJpIZL1YZ"
   },
   "outputs": [],
   "source": [
    "job_skills_set.remove('power bi')"
   ]
  },
  {
   "cell_type": "code",
   "execution_count": 77,
   "metadata": {
    "colab": {
     "base_uri": "https://localhost:8080/"
    },
    "id": "SbzjaQ8EMDv2",
    "outputId": "49f3df1d-24de-4e6c-a0d5-3d4ea67703d5"
   },
   "outputs": [
    {
     "data": {
      "text/plain": [
       "{'python', 'sql', 'tableau'}"
      ]
     },
     "execution_count": 77,
     "metadata": {},
     "output_type": "execute_result"
    }
   ],
   "source": [
    "job_skills_set"
   ]
  },
  {
   "cell_type": "code",
   "execution_count": 78,
   "metadata": {
    "colab": {
     "base_uri": "https://localhost:8080/"
    },
    "id": "9_3q3PzfMFn_",
    "outputId": "628d634e-6835-4147-9a08-940346cad7d9"
   },
   "outputs": [
    {
     "data": {
      "text/plain": [
       "{'communication', 'excel', 'power bi', 'python', 'sql', 'tableau', 'writing'}"
      ]
     },
     "execution_count": 78,
     "metadata": {},
     "output_type": "execute_result"
    }
   ],
   "source": [
    "set_from_list = set(job_skills)\n",
    "set_from_list"
   ]
  },
  {
   "cell_type": "markdown",
   "metadata": {
    "id": "NNHKsE2WMmby"
   },
   "source": [
    "## tuple\n",
    "\n",
    "> sets but for **fixed** data\n",
    "\n",
    "Tuples are <span>immutable</span>"
   ]
  },
  {
   "cell_type": "code",
   "execution_count": 79,
   "metadata": {
    "id": "HyvEz3n1MpZP"
   },
   "outputs": [],
   "source": [
    "adi_skills = (\"javascript\", \"typescript\", \"arcgis\", \"qgis\")\n",
    "\n",
    "id_1 = id(adi_skills)"
   ]
  },
  {
   "cell_type": "code",
   "execution_count": 80,
   "metadata": {
    "id": "cEnMl-VaM-C2"
   },
   "outputs": [],
   "source": [
    "# adi_skills.append(\"error\") # tuples are immutable so appending throws error"
   ]
  },
  {
   "cell_type": "code",
   "execution_count": 81,
   "metadata": {
    "colab": {
     "base_uri": "https://localhost:8080/"
    },
    "id": "FjNx8QiCNAsi",
    "outputId": "38fcddad-cb6d-4281-8ed0-17071fdb1d7b"
   },
   "outputs": [
    {
     "data": {
      "text/plain": [
       "('javascript',\n",
       " 'typescript',\n",
       " 'arcgis',\n",
       " 'qgis',\n",
       " 'investigation',\n",
       " 'bomb diffusion')"
      ]
     },
     "execution_count": 81,
     "metadata": {},
     "output_type": "execute_result"
    }
   ],
   "source": [
    "new_skills = (\"investigation\", \"bomb diffusion\")\n",
    "\n",
    "adi_skills += new_skills\n",
    "adi_skills"
   ]
  },
  {
   "cell_type": "markdown",
   "metadata": {
    "id": "ote-uON9ONjh"
   },
   "source": [
    "Wait what 😱\n",
    "\n",
    "Aren't tuples immutable?\n",
    "\n",
    "> Yes, they are. After the addition, we've a new object - can be verfied with id."
   ]
  },
  {
   "cell_type": "code",
   "execution_count": 82,
   "metadata": {
    "id": "lGHKHnviONBh"
   },
   "outputs": [],
   "source": [
    "id_2 = id(adi_skills)"
   ]
  },
  {
   "cell_type": "code",
   "execution_count": 83,
   "metadata": {
    "colab": {
     "base_uri": "https://localhost:8080/"
    },
    "id": "I53uKckAOK_F",
    "outputId": "7adcf3cd-b6b7-4657-cb4f-1d727b37bc3b"
   },
   "outputs": [
    {
     "name": "stdout",
     "output_type": "stream",
     "text": [
      "140178292588384 140178302401216\n",
      "False\n"
     ]
    }
   ],
   "source": [
    "print(id_1, id_2)\n",
    "print(id_1 == id_2)"
   ]
  },
  {
   "cell_type": "markdown",
   "metadata": {
    "id": "u67rWTtTUcuZ"
   },
   "source": [
    "# loops"
   ]
  },
  {
   "cell_type": "code",
   "execution_count": 84,
   "metadata": {
    "id": "IIDrazLHOz93"
   },
   "outputs": [],
   "source": [
    "# prompt: create a list of job_lists related to data analysts\n",
    "\n",
    "job_lists = [\n",
    "    \"Data Analyst\",\n",
    "    \"Business Intelligence Analyst\",\n",
    "    \"Data Scientist\",\n",
    "    \"Data Engineer\",\n",
    "    \"Machine Learning Engineer\",\n",
    "    \"Data Architect\",\n",
    "    \"Database Administrator\",\n",
    "    \"Statistician\",\n",
    "    \"Data Visualization Specialist\",\n",
    "    \"BI Developer\"\n",
    "]\n"
   ]
  },
  {
   "cell_type": "code",
   "execution_count": 85,
   "metadata": {
    "colab": {
     "base_uri": "https://localhost:8080/"
    },
    "id": "uCr-wcOVUnbD",
    "outputId": "4cfb73e4-4142-4a21-85c8-e81317348622"
   },
   "outputs": [
    {
     "data": {
      "text/plain": [
       "['Data Analyst',\n",
       " 'Data Scientist',\n",
       " 'Data Engineer',\n",
       " 'Data Architect',\n",
       " 'Database Administrator',\n",
       " 'Data Visualization Specialist']"
      ]
     },
     "execution_count": 85,
     "metadata": {},
     "output_type": "execute_result"
    }
   ],
   "source": [
    "analyst_list = []\n",
    "\n",
    "for job in job_lists:\n",
    "  if \"Data\" in job:\n",
    "    analyst_list.append(job)\n",
    "\n",
    "analyst_list"
   ]
  },
  {
   "cell_type": "code",
   "execution_count": 86,
   "metadata": {
    "colab": {
     "base_uri": "https://localhost:8080/"
    },
    "id": "Lldl4RFMU3lF",
    "outputId": "878e32b5-3739-47ec-d385-13d51b832635"
   },
   "outputs": [
    {
     "name": "stdout",
     "output_type": "stream",
     "text": [
      "10 6\n"
     ]
    }
   ],
   "source": [
    "print(len(job_lists), len(analyst_list))"
   ]
  },
  {
   "cell_type": "code",
   "execution_count": 87,
   "metadata": {
    "colab": {
     "base_uri": "https://localhost:8080/"
    },
    "id": "XlEgsp2aU_u-",
    "outputId": "6e63f6f5-ec95-4bf4-d0d6-41b74edd7864"
   },
   "outputs": [
    {
     "name": "stdout",
     "output_type": "stream",
     "text": [
      "Charlie has more than 5 years of experience\n",
      "Eve has more than 5 years of experience\n"
     ]
    }
   ],
   "source": [
    "# prompt: a dictionary with name as key and number of years as value.\n",
    "\n",
    "# Create a dictionary with names as keys and number of years as values.\n",
    "employee_years = {\n",
    "    \"Alice\": 5,\n",
    "    \"Bob\": 3,\n",
    "    \"Charlie\": 7,\n",
    "    \"David\": 2,\n",
    "    \"Eve\": 10\n",
    "}\n",
    "\n",
    "for key, value in employee_years.items():\n",
    "  if value > 5:\n",
    "    print(f\"{key} has more than 5 years of experience\")\n"
   ]
  },
  {
   "cell_type": "code",
   "execution_count": 88,
   "metadata": {
    "colab": {
     "base_uri": "https://localhost:8080/"
    },
    "id": "sXz5EC1XWB6y",
    "outputId": "5b73ca15-bbfb-42a2-b6bf-c9c79b0d8409"
   },
   "outputs": [
    {
     "data": {
      "text/plain": [
       "(0, 1, 2, 3, 4)"
      ]
     },
     "execution_count": 88,
     "metadata": {},
     "output_type": "execute_result"
    }
   ],
   "source": [
    "tuple(range(5))"
   ]
  },
  {
   "cell_type": "code",
   "execution_count": 89,
   "metadata": {
    "colab": {
     "base_uri": "https://localhost:8080/"
    },
    "id": "iD-2C73gayHV",
    "outputId": "c87b1e3b-8850-4d70-fcb6-21b9ec3fd08b"
   },
   "outputs": [
    {
     "name": "stdout",
     "output_type": "stream",
     "text": [
      "0\n",
      "1\n",
      "2\n",
      "3\n",
      "4\n"
     ]
    }
   ],
   "source": [
    "for _ in range(5):\n",
    "  print(_)"
   ]
  },
  {
   "cell_type": "code",
   "execution_count": 90,
   "metadata": {
    "colab": {
     "base_uri": "https://localhost:8080/"
    },
    "id": "DyeiI1Y8a42f",
    "outputId": "54110af9-0489-42cc-8970-a522aa139ec7"
   },
   "outputs": [
    {
     "name": "stdout",
     "output_type": "stream",
     "text": [
      "this is true\n"
     ]
    }
   ],
   "source": [
    "while (True):\n",
    "  print(\"this is true\")\n",
    "  break"
   ]
  },
  {
   "cell_type": "code",
   "execution_count": 91,
   "metadata": {
    "colab": {
     "base_uri": "https://localhost:8080/"
    },
    "id": "EFfLvqcpa9X4",
    "outputId": "cd25aa2a-6d71-4335-dbe3-e03c90a89747"
   },
   "outputs": [
    {
     "data": {
      "text/plain": [
       "0.22727272727272727"
      ]
     },
     "execution_count": 91,
     "metadata": {},
     "output_type": "execute_result"
    }
   ],
   "source": [
    "2.5/11"
   ]
  },
  {
   "cell_type": "code",
   "execution_count": 92,
   "metadata": {
    "colab": {
     "base_uri": "https://localhost:8080/"
    },
    "id": "vTd9waY_bQzM",
    "outputId": "9c6c1706-e9dc-4a63-95e7-84809451c2c0"
   },
   "outputs": [
    {
     "name": "stdout",
     "output_type": "stream",
     "text": [
      "5\n",
      "4\n",
      "3\n",
      "2\n",
      "1\n"
     ]
    }
   ],
   "source": [
    "count = 5\n",
    "\n",
    "while (not count == 0 ):\n",
    "  print(count)\n",
    "  count -= 1"
   ]
  },
  {
   "cell_type": "code",
   "execution_count": null,
   "metadata": {
    "id": "PuSx1MP2b1VG"
   },
   "outputs": [],
   "source": []
  },
  {
   "cell_type": "markdown",
   "metadata": {
    "id": "lpzEPAPHc8lM"
   },
   "source": [
    "## list comprehensions"
   ]
  },
  {
   "cell_type": "code",
   "execution_count": 93,
   "metadata": {
    "colab": {
     "base_uri": "https://localhost:8080/"
    },
    "id": "i2KHxic9c_PS",
    "outputId": "54ceb082-261e-4ff5-85b3-33c8e56823cc"
   },
   "outputs": [
    {
     "data": {
      "text/plain": [
       "[0.0, 1.0, 2.0, 3.0, 4.0, 5.0, 6.0, 7.0, 8.0, 9.0]"
      ]
     },
     "execution_count": 93,
     "metadata": {},
     "output_type": "execute_result"
    }
   ],
   "source": [
    "numbers = [float(x) for x in range(10)]\n",
    "numbers"
   ]
  },
  {
   "cell_type": "code",
   "execution_count": 94,
   "metadata": {
    "colab": {
     "base_uri": "https://localhost:8080/"
    },
    "id": "-98RfQWzdFPj",
    "outputId": "13dbd700-f79b-4d27-bde5-3e245c76ef87"
   },
   "outputs": [
    {
     "data": {
      "text/plain": [
       "{0.0, 1.0, 2.0, 3.0, 4.0, 5.0, 6.0, 7.0, 8.0, 9.0}"
      ]
     },
     "execution_count": 94,
     "metadata": {},
     "output_type": "execute_result"
    }
   ],
   "source": [
    "numbers_set = {float(x) for x in range(10)}\n",
    "numbers_set"
   ]
  },
  {
   "cell_type": "code",
   "execution_count": 95,
   "metadata": {
    "colab": {
     "base_uri": "https://localhost:8080/"
    },
    "id": "CayBM4usdwff",
    "outputId": "4bf85565-85c7-4f93-f8d4-a41e1e28bf8e"
   },
   "outputs": [
    {
     "data": {
      "text/plain": [
       "['Data Analyst',\n",
       " 'Data Scientist',\n",
       " 'Data Engineer',\n",
       " 'Data Architect',\n",
       " 'Database Administrator',\n",
       " 'Data Visualization Specialist']"
      ]
     },
     "execution_count": 95,
     "metadata": {},
     "output_type": "execute_result"
    }
   ],
   "source": [
    "data_list_comp = [job for job in job_lists if 'Data' in job]\n",
    "data_list_comp"
   ]
  },
  {
   "cell_type": "code",
   "execution_count": 96,
   "metadata": {
    "id": "ubFL15xUeyF2"
   },
   "outputs": [],
   "source": [
    "my_skills = [\"python\", \"postgres\", \"excel\"]"
   ]
  },
  {
   "cell_type": "code",
   "execution_count": 97,
   "metadata": {
    "colab": {
     "base_uri": "https://localhost:8080/"
    },
    "id": "6aVeALkPgkWT",
    "outputId": "c8b092d8-db18-43ca-dac7-830cd0411a04"
   },
   "outputs": [
    {
     "data": {
      "text/plain": [
       "[{'role': 'Data Scientist',\n",
       "  'skills': ['Python', 'Machine Learning', 'Deep Learning', 'Statistics']},\n",
       " {'role': 'Data Analyst',\n",
       "  'skills': ['SQL', 'Python', 'Data Visualization', 'Excel']},\n",
       " {'role': 'Machine Learning Engineer',\n",
       "  'skills': ['Python', 'TensorFlow', 'PyTorch', 'Cloud Computing']},\n",
       " {'role': 'Data Engineer',\n",
       "  'skills': ['SQL', 'Python', 'Big Data', 'Cloud Computing']},\n",
       " {'role': 'AI Researcher',\n",
       "  'skills': ['Python', 'Deep Learning', 'Mathematics', 'Research']},\n",
       " {'role': 'Business Intelligence Analyst',\n",
       "  'skills': ['SQL', 'Data Visualization', 'Business Acumen', 'Excel']},\n",
       " {'role': 'Data Architect',\n",
       "  'skills': ['Cloud Computing', 'Big Data', 'Database Design', 'SQL']},\n",
       " {'role': 'NLP Engineer',\n",
       "  'skills': ['Python', 'NLP Libraries', 'Machine Learning', 'Deep Learning']},\n",
       " {'role': 'Computer Vision Engineer',\n",
       "  'skills': ['Python',\n",
       "   'OpenCV',\n",
       "   'Computer Vision Libraries',\n",
       "   'Deep Learning']},\n",
       " {'role': 'AI Product Manager',\n",
       "  'skills': ['Product Management',\n",
       "   'AI/ML',\n",
       "   'Business Acumen',\n",
       "   'Communication']}]"
      ]
     },
     "execution_count": 97,
     "metadata": {},
     "output_type": "execute_result"
    }
   ],
   "source": [
    "# prompt: create a list of dict with two keys role and skills. role is a string and skills is a list. these are related to field of data science and artificial intelligence.\n",
    "\n",
    "# dsr = data science roles\n",
    "\n",
    "ds_roles = [\n",
    "    {'role': 'Data Scientist', 'skills': ['Python', 'Machine Learning', 'Deep Learning', 'Statistics']},\n",
    "    {'role': 'Data Analyst', 'skills': ['SQL', 'Python', 'Data Visualization', 'Excel']},\n",
    "    {'role': 'Machine Learning Engineer', 'skills': ['Python', 'TensorFlow', 'PyTorch', 'Cloud Computing']},\n",
    "    {'role': 'Data Engineer', 'skills': ['SQL', 'Python', 'Big Data', 'Cloud Computing']},\n",
    "    {'role': 'AI Researcher', 'skills': ['Python', 'Deep Learning', 'Mathematics', 'Research']},\n",
    "    {'role': 'Business Intelligence Analyst', 'skills': ['SQL', 'Data Visualization', 'Business Acumen', 'Excel']},\n",
    "    {'role': 'Data Architect', 'skills': ['Cloud Computing', 'Big Data', 'Database Design', 'SQL']},\n",
    "    {'role': 'NLP Engineer', 'skills': ['Python', 'NLP Libraries', 'Machine Learning', 'Deep Learning']},\n",
    "    {'role': 'Computer Vision Engineer', 'skills': ['Python', 'OpenCV', 'Computer Vision Libraries', 'Deep Learning']},\n",
    "    {'role': 'AI Product Manager', 'skills': ['Product Management', 'AI/ML', 'Business Acumen', 'Communication']}\n",
    "]\n",
    "ds_roles\n"
   ]
  },
  {
   "cell_type": "code",
   "execution_count": 98,
   "metadata": {
    "colab": {
     "base_uri": "https://localhost:8080/"
    },
    "id": "c-4pNBZ6g6NN",
    "outputId": "1425f3f3-d3ac-4343-8556-327006e326e7"
   },
   "outputs": [
    {
     "name": "stdout",
     "output_type": "stream",
     "text": [
      "Data Scientist\n",
      "Data Analyst\n",
      "Data Analyst\n",
      "Machine Learning Engineer\n",
      "Data Engineer\n",
      "AI Researcher\n",
      "Business Intelligence Analyst\n",
      "NLP Engineer\n",
      "Computer Vision Engineer\n"
     ]
    }
   ],
   "source": [
    "for job in ds_roles:\n",
    "  for skill in job[\"skills\"]:\n",
    "    if skill.lower() in my_skills:\n",
    "      print(job[\"role\"])"
   ]
  },
  {
   "cell_type": "markdown",
   "metadata": {
    "id": "3KVMBS_w3rR5"
   },
   "source": [
    "# functions\n",
    "\n",
    "- built-in\n",
    "- user defined\n",
    "- lambda\n",
    "- std library\n",
    "- 3rd party library"
   ]
  },
  {
   "cell_type": "code",
   "execution_count": 99,
   "metadata": {
    "id": "tXW3uBmDh2ll"
   },
   "outputs": [],
   "source": [
    "data_salaries = [2999, 1234, 5324, 3214, 4512, 1241]"
   ]
  },
  {
   "cell_type": "code",
   "execution_count": 100,
   "metadata": {
    "colab": {
     "base_uri": "https://localhost:8080/"
    },
    "id": "lg3YNRzf4gUB",
    "outputId": "256330b2-4b5e-44e7-ffb0-1271ffd5ed09"
   },
   "outputs": [
    {
     "data": {
      "text/plain": [
       "1234"
      ]
     },
     "execution_count": 100,
     "metadata": {},
     "output_type": "execute_result"
    }
   ],
   "source": [
    "min(data_salaries)"
   ]
  },
  {
   "cell_type": "code",
   "execution_count": 101,
   "metadata": {
    "colab": {
     "base_uri": "https://localhost:8080/"
    },
    "id": "cLyQ45Rt4jK4",
    "outputId": "b80d8ad9-122b-48a1-b75f-ed2853c9c44a"
   },
   "outputs": [
    {
     "data": {
      "text/plain": [
       "5324"
      ]
     },
     "execution_count": 101,
     "metadata": {},
     "output_type": "execute_result"
    }
   ],
   "source": [
    "max(data_salaries)"
   ]
  },
  {
   "cell_type": "code",
   "execution_count": 102,
   "metadata": {
    "colab": {
     "base_uri": "https://localhost:8080/"
    },
    "id": "hecnQl9h4kTs",
    "outputId": "2d4cf885-413b-446b-9d17-8d38a406c535"
   },
   "outputs": [
    {
     "data": {
      "text/plain": [
       "18524"
      ]
     },
     "execution_count": 102,
     "metadata": {},
     "output_type": "execute_result"
    }
   ],
   "source": [
    "sum(data_salaries)"
   ]
  },
  {
   "cell_type": "code",
   "execution_count": 103,
   "metadata": {
    "id": "C1kN6_Ue4qYX"
   },
   "outputs": [],
   "source": [
    "def calculate_salary(base_salary, bonus_rate=.1):\n",
    "  total_salary = base_salary * (1 + bonus_rate)\n",
    "  return total_salary"
   ]
  },
  {
   "cell_type": "code",
   "execution_count": 104,
   "metadata": {
    "colab": {
     "base_uri": "https://localhost:8080/"
    },
    "id": "CZBp7STA45tq",
    "outputId": "78f4d1d2-b3c5-4c33-9fd3-73fc016c7581"
   },
   "outputs": [
    {
     "data": {
      "text/plain": [
       "11000.0"
      ]
     },
     "execution_count": 104,
     "metadata": {},
     "output_type": "execute_result"
    }
   ],
   "source": [
    "calculate_salary(10000)"
   ]
  },
  {
   "cell_type": "markdown",
   "metadata": {
    "id": "vuM9FrLM5TdD"
   },
   "source": [
    "## lambda functions"
   ]
  },
  {
   "cell_type": "code",
   "execution_count": 105,
   "metadata": {
    "id": "i8i6iQkT5Arx"
   },
   "outputs": [],
   "source": [
    "mul2 = lambda x: x * 2"
   ]
  },
  {
   "cell_type": "code",
   "execution_count": 106,
   "metadata": {
    "colab": {
     "base_uri": "https://localhost:8080/"
    },
    "id": "MW-GEQCX5dcg",
    "outputId": "e202a5c0-85f8-4f72-eee2-b2d347a905c8"
   },
   "outputs": [
    {
     "data": {
      "text/plain": [
       "6"
      ]
     },
     "execution_count": 106,
     "metadata": {},
     "output_type": "execute_result"
    }
   ],
   "source": [
    "mul2(3)"
   ]
  },
  {
   "cell_type": "code",
   "execution_count": 107,
   "metadata": {
    "id": "16p7PzBF5e0w"
   },
   "outputs": [],
   "source": [
    "mul_nums = lambda x, y: x * y"
   ]
  },
  {
   "cell_type": "code",
   "execution_count": 108,
   "metadata": {
    "colab": {
     "base_uri": "https://localhost:8080/"
    },
    "id": "6oXYmHV95m5O",
    "outputId": "966b17e0-81c0-4818-db02-bbd2398dae1d"
   },
   "outputs": [
    {
     "data": {
      "text/plain": [
       "20"
      ]
     },
     "execution_count": 108,
     "metadata": {},
     "output_type": "execute_result"
    }
   ],
   "source": [
    "mul_nums(4, 5)"
   ]
  },
  {
   "cell_type": "code",
   "execution_count": 109,
   "metadata": {
    "id": "N4soFWeh5ojx"
   },
   "outputs": [],
   "source": [
    "total_salary_list = [calculate_salary(salary) for salary in data_salaries]"
   ]
  },
  {
   "cell_type": "code",
   "execution_count": 110,
   "metadata": {
    "colab": {
     "base_uri": "https://localhost:8080/"
    },
    "id": "sjiLcBRZ6AQc",
    "outputId": "21221fea-908d-41b3-a93b-2c7fee81c562"
   },
   "outputs": [
    {
     "data": {
      "text/plain": [
       "[3298.9,\n",
       " 1357.4,\n",
       " 5856.400000000001,\n",
       " 3535.4,\n",
       " 4963.200000000001,\n",
       " 1365.1000000000001]"
      ]
     },
     "execution_count": 110,
     "metadata": {},
     "output_type": "execute_result"
    }
   ],
   "source": [
    "total_salary_list"
   ]
  },
  {
   "cell_type": "code",
   "execution_count": 111,
   "metadata": {
    "colab": {
     "base_uri": "https://localhost:8080/"
    },
    "id": "bvn2VZd06VZn",
    "outputId": "a3ea2135-41f5-47c9-dfc0-3f327d080174"
   },
   "outputs": [
    {
     "data": {
      "text/plain": [
       "[3298.9,\n",
       " 1357.4,\n",
       " 5856.400000000001,\n",
       " 3535.4,\n",
       " 4963.200000000001,\n",
       " 1365.1000000000001]"
      ]
     },
     "execution_count": 111,
     "metadata": {},
     "output_type": "execute_result"
    }
   ],
   "source": [
    "lambda_salary = [(lambda x: x * 1.1)(salary) for salary in data_salaries]\n",
    "lambda_salary"
   ]
  },
  {
   "cell_type": "code",
   "execution_count": 112,
   "metadata": {
    "id": "Mlcj4B9A7GeN"
   },
   "outputs": [],
   "source": [
    "# prompt: a list of dict with job_title, skills (a list of skills), and remote(boolean)\n",
    "\n",
    "ds_roles = [\n",
    "    {'role': 'Data Scientist', 'skills': ['Python', 'Machine Learning', 'Deep Learning', 'Statistics'], 'remote': True},\n",
    "    {'role': 'Data Analyst', 'skills': ['SQL', 'Python', 'Data Visualization', 'Excel'], 'remote': False},\n",
    "    {'role': 'Machine Learning Engineer', 'skills': ['Python', 'TensorFlow', 'PyTorch', 'Cloud Computing'], 'remote': True},\n",
    "    {'role': 'Data Engineer', 'skills': ['SQL', 'Python', 'Big Data', 'Cloud Computing'], 'remote': False},\n",
    "    {'role': 'AI Researcher', 'skills': ['Python', 'Deep Learning', 'Mathematics', 'Research'], 'remote': True},\n",
    "    {'role': 'Business Intelligence Analyst', 'skills': ['SQL', 'Data Visualization', 'Business Acumen', 'Excel'], 'remote': False},\n",
    "    {'role': 'Data Architect', 'skills': ['Cloud Computing', 'Big Data', 'Database Design', 'SQL'], 'remote': True},\n",
    "    {'role': 'NLP Engineer', 'skills': ['Python', 'NLP Libraries', 'Machine Learning', 'Deep Learning'], 'remote': True},\n",
    "    {'role': 'Computer Vision Engineer', 'skills': ['Python', 'OpenCV', 'Computer Vision Libraries', 'Deep Learning'], 'remote': False},\n",
    "    {'role': 'AI Product Manager', 'skills': ['Product Management', 'AI/ML', 'Business Acumen', 'Communication'], 'remote': True}\n",
    "]\n"
   ]
  },
  {
   "cell_type": "code",
   "execution_count": 113,
   "metadata": {
    "colab": {
     "base_uri": "https://localhost:8080/"
    },
    "id": "rvF2KTJi7r4z",
    "outputId": "6f90c332-4344-4b9e-9845-6fdf10c6f7b4"
   },
   "outputs": [
    {
     "name": "stdout",
     "output_type": "stream",
     "text": [
      "Help on class filter in module builtins:\n",
      "\n",
      "class filter(object)\n",
      " |  filter(function or None, iterable) --> filter object\n",
      " |  \n",
      " |  Return an iterator yielding those items of iterable for which function(item)\n",
      " |  is true. If function is None, return the items that are true.\n",
      " |  \n",
      " |  Methods defined here:\n",
      " |  \n",
      " |  __getattribute__(self, name, /)\n",
      " |      Return getattr(self, name).\n",
      " |  \n",
      " |  __iter__(self, /)\n",
      " |      Implement iter(self).\n",
      " |  \n",
      " |  __next__(self, /)\n",
      " |      Implement next(self).\n",
      " |  \n",
      " |  __reduce__(...)\n",
      " |      Return state information for pickling.\n",
      " |  \n",
      " |  ----------------------------------------------------------------------\n",
      " |  Static methods defined here:\n",
      " |  \n",
      " |  __new__(*args, **kwargs) from builtins.type\n",
      " |      Create and return a new object.  See help(type) for accurate signature.\n",
      "\n"
     ]
    }
   ],
   "source": [
    "help(filter)"
   ]
  },
  {
   "cell_type": "code",
   "execution_count": 114,
   "metadata": {
    "colab": {
     "base_uri": "https://localhost:8080/"
    },
    "id": "VdPa4oqm7wDW",
    "outputId": "fadb81f6-ec17-40b9-d897-45027e9ee9b8"
   },
   "outputs": [
    {
     "data": {
      "text/plain": [
       "[{'role': 'Data Scientist',\n",
       "  'skills': ['Python', 'Machine Learning', 'Deep Learning', 'Statistics'],\n",
       "  'remote': True},\n",
       " {'role': 'Machine Learning Engineer',\n",
       "  'skills': ['Python', 'TensorFlow', 'PyTorch', 'Cloud Computing'],\n",
       "  'remote': True},\n",
       " {'role': 'AI Researcher',\n",
       "  'skills': ['Python', 'Deep Learning', 'Mathematics', 'Research'],\n",
       "  'remote': True},\n",
       " {'role': 'NLP Engineer',\n",
       "  'skills': ['Python', 'NLP Libraries', 'Machine Learning', 'Deep Learning'],\n",
       "  'remote': True}]"
      ]
     },
     "execution_count": 114,
     "metadata": {},
     "output_type": "execute_result"
    }
   ],
   "source": [
    "filtered_jobs = filter(lambda job: job['remote'] and \"Python\" in job['skills'], ds_roles)\n",
    "remote_jobs = list(filtered_jobs)\n",
    "remote_jobs"
   ]
  },
  {
   "cell_type": "markdown",
   "metadata": {
    "id": "evLM8XcO8zTE"
   },
   "source": [
    "## modules"
   ]
  },
  {
   "cell_type": "code",
   "execution_count": 115,
   "metadata": {
    "id": "hVxtmLSa7_VI"
   },
   "outputs": [
    {
     "ename": "ModuleNotFoundError",
     "evalue": "No module named 'my_module'",
     "output_type": "error",
     "traceback": [
      "\u001b[0;31m---------------------------------------------------------------------------\u001b[0m",
      "\u001b[0;31mModuleNotFoundError\u001b[0m                       Traceback (most recent call last)",
      "Cell \u001b[0;32mIn[115], line 1\u001b[0m\n\u001b[0;32m----> 1\u001b[0m \u001b[38;5;28;01mimport\u001b[39;00m\u001b[38;5;250m \u001b[39m\u001b[38;5;21;01mmy_module\u001b[39;00m\n",
      "\u001b[0;31mModuleNotFoundError\u001b[0m: No module named 'my_module'"
     ]
    }
   ],
   "source": [
    "import my_module"
   ]
  },
  {
   "cell_type": "code",
   "execution_count": null,
   "metadata": {
    "colab": {
     "base_uri": "https://localhost:8080/"
    },
    "id": "-kl6bDcs9G1t",
    "outputId": "69d9a98c-0841-4b55-a581-fa273e5b791e"
   },
   "outputs": [
    {
     "data": {
      "text/plain": [
       "['Python', 'SQL', 'Scamming']"
      ]
     },
     "execution_count": 116,
     "metadata": {},
     "output_type": "execute_result"
    }
   ],
   "source": [
    "my_module.skill_list"
   ]
  },
  {
   "cell_type": "code",
   "execution_count": null,
   "metadata": {
    "colab": {
     "base_uri": "https://localhost:8080/",
     "height": 36
    },
    "id": "yUr9DUY19H2K",
    "outputId": "e4b3b6de-42db-4b16-faad-9c4e132e9fc3"
   },
   "outputs": [
    {
     "data": {
      "application/vnd.google.colaboratory.intrinsic+json": {
       "type": "string"
      },
      "text/plain": [
       "'I am skilled at Bakchodi'"
      ]
     },
     "execution_count": 117,
     "metadata": {},
     "output_type": "execute_result"
    }
   ],
   "source": [
    "my_module.skill(\"Bakchodi\")"
   ]
  },
  {
   "cell_type": "code",
   "execution_count": null,
   "metadata": {
    "id": "dOuWsfw09826"
   },
   "outputs": [],
   "source": [
    "# import job_analyzer\n",
    "#job_analyzer.calculate_salary(22000)"
   ]
  },
  {
   "cell_type": "code",
   "execution_count": null,
   "metadata": {
    "id": "BENO9A6p-NTF"
   },
   "outputs": [],
   "source": [
    "# from job_analyzer import calculate_salary, calculate_bonus\n",
    "\n",
    "from job_analyzer import * # imports all functions"
   ]
  },
  {
   "cell_type": "code",
   "execution_count": null,
   "metadata": {
    "colab": {
     "base_uri": "https://localhost:8080/"
    },
    "id": "qsyq_Qpz-PxU",
    "outputId": "6189ff70-5341-452a-aedb-c94a742756d3"
   },
   "outputs": [
    {
     "data": {
      "text/plain": [
       "11000.0"
      ]
     },
     "execution_count": 120,
     "metadata": {},
     "output_type": "execute_result"
    }
   ],
   "source": [
    "calculate_salary(10_000)"
   ]
  },
  {
   "cell_type": "code",
   "execution_count": null,
   "metadata": {
    "colab": {
     "base_uri": "https://localhost:8080/"
    },
    "id": "bEttPhQB_Z9L",
    "outputId": "c66bc616-b136-4331-9067-2a5e093acce3"
   },
   "outputs": [
    {
     "data": {
      "text/plain": [
       "0.5"
      ]
     },
     "execution_count": 121,
     "metadata": {},
     "output_type": "execute_result"
    }
   ],
   "source": [
    "calculate_bonus(30000, 20000)"
   ]
  },
  {
   "cell_type": "code",
   "execution_count": null,
   "metadata": {
    "id": "lUA9GSD0_gCO"
   },
   "outputs": [],
   "source": []
  },
  {
   "cell_type": "markdown",
   "metadata": {
    "id": "Xz5v9VMLcdqP"
   },
   "source": [
    "## statistics library"
   ]
  },
  {
   "cell_type": "code",
   "execution_count": null,
   "metadata": {
    "colab": {
     "base_uri": "https://localhost:8080/"
    },
    "id": "O6ZeFQjVcoLd",
    "outputId": "b17cc2a7-9bbd-4cc6-d403-9b691bdfe5b5"
   },
   "outputs": [
    {
     "name": "stdout",
     "output_type": "stream",
     "text": [
      "Mean salary: 3087.3333333333335\n",
      "Median salary: 3106.5\n",
      "Mode salary: 2999\n",
      "Standard deviation of salaries: 1667.332680261101\n",
      "Variance of salaries: 2779998.2666666666\n"
     ]
    }
   ],
   "source": [
    "# prompt: list of salaries\n",
    "\n",
    "import statistics\n",
    "\n",
    "data_salaries = [2999, 1234, 5324, 3214, 4512, 1241]\n",
    "\n",
    "# Calculate the mean (average) salary\n",
    "mean_salary = statistics.mean(data_salaries)\n",
    "print(f\"Mean salary: {mean_salary}\")\n",
    "\n",
    "# Calculate the median (middle value) salary\n",
    "median_salary = statistics.median(data_salaries)\n",
    "print(f\"Median salary: {median_salary}\")\n",
    "\n",
    "# Calculate the mode (most frequent value) salary\n",
    "# Note: If there's no unique mode, statistics.mode will raise StatisticsError.\n",
    "# We can handle this using a try-except block\n",
    "try:\n",
    "    mode_salary = statistics.mode(data_salaries)\n",
    "    print(f\"Mode salary: {mode_salary}\")\n",
    "except statistics.StatisticsError:\n",
    "    print(\"No unique mode found in the salary data.\")\n",
    "\n",
    "# Calculate the standard deviation of the salaries\n",
    "stdev_salary = statistics.stdev(data_salaries)\n",
    "print(f\"Standard deviation of salaries: {stdev_salary}\")\n",
    "\n",
    "# Calculate the variance of the salaries\n",
    "variance_salary = statistics.variance(data_salaries)\n",
    "print(f\"Variance of salaries: {variance_salary}\")\n"
   ]
  },
  {
   "cell_type": "markdown",
   "metadata": {
    "id": "MuOLekgM1HRi"
   },
   "source": [
    "## datetime"
   ]
  },
  {
   "cell_type": "code",
   "execution_count": null,
   "metadata": {
    "id": "rpAFYU881J9L"
   },
   "outputs": [],
   "source": [
    "from datetime import datetime"
   ]
  },
  {
   "cell_type": "code",
   "execution_count": null,
   "metadata": {
    "colab": {
     "base_uri": "https://localhost:8080/"
    },
    "id": "pvj3b0nH1NSV",
    "outputId": "c437fa6d-e575-4a15-b52b-15d6373f4106"
   },
   "outputs": [
    {
     "data": {
      "text/plain": [
       "datetime.datetime(2025, 2, 8, 4, 33, 7, 437630)"
      ]
     },
     "execution_count": 2,
     "metadata": {},
     "output_type": "execute_result"
    }
   ],
   "source": [
    "datetime.now()"
   ]
  },
  {
   "cell_type": "code",
   "execution_count": null,
   "metadata": {
    "colab": {
     "base_uri": "https://localhost:8080/"
    },
    "id": "sWnh2yBS1TB_",
    "outputId": "81d34182-b146-4cd0-e625-de555ed4c952"
   },
   "outputs": [
    {
     "data": {
      "text/plain": [
       "[{'job_title': 'Data Scientist',\n",
       "  'job_skills': ['Python', 'SQL', 'Machine Learning'],\n",
       "  'job_date': '2023-05-12'},\n",
       " {'job_title': 'Data Analyst',\n",
       "  'job_skills': ['SQL', 'Excel', 'Tableau'],\n",
       "  'job_date': '2023-05-15'},\n",
       " {'job_title': 'Machine Learning Engineer',\n",
       "  'job_skills': ['Python', 'TensorFlow', 'PyTorch'],\n",
       "  'job_date': '2023-05-18'},\n",
       " {'job_title': 'Data Engineer',\n",
       "  'job_skills': ['Python', 'SQL', 'Hadoop'],\n",
       "  'job_date': '2023-05-20'},\n",
       " {'job_title': 'Business Intelligence Analyst',\n",
       "  'job_skills': ['SQL', 'Power BI', 'Excel'],\n",
       "  'job_date': '2023-05-22'},\n",
       " {'job_title': 'Data Architect',\n",
       "  'job_skills': ['SQL', 'Cloud Computing', 'Data Modeling'],\n",
       "  'job_date': '2023-05-25'},\n",
       " {'job_title': 'AI Researcher',\n",
       "  'job_skills': ['Python', 'Deep Learning', 'Research'],\n",
       "  'job_date': '2023-05-28'},\n",
       " {'job_title': 'NLP Engineer',\n",
       "  'job_skills': ['Python', 'NLP', 'Machine Learning'],\n",
       "  'job_date': '2023-06-01'},\n",
       " {'job_title': 'Computer Vision Engineer',\n",
       "  'job_skills': ['Python', 'OpenCV', 'Deep Learning'],\n",
       "  'job_date': '2023-06-05'},\n",
       " {'job_title': 'Data Visualization Specialist',\n",
       "  'job_skills': ['Tableau', 'Power BI', 'Data Storytelling'],\n",
       "  'job_date': '2023-06-08'},\n",
       " {'job_title': 'Database Administrator',\n",
       "  'job_skills': ['SQL', 'Database Management', 'Cloud Computing'],\n",
       "  'job_date': '2023-06-10'},\n",
       " {'job_title': 'Big Data Engineer',\n",
       "  'job_skills': ['Spark', 'Hadoop', 'Python'],\n",
       "  'job_date': '2023-06-12'}]"
      ]
     },
     "execution_count": 3,
     "metadata": {},
     "output_type": "execute_result"
    }
   ],
   "source": [
    "# prompt: a list of data_science_jobs with dict job_title, job_skills (list), and 'job_date' a date string like 2023-05-12. give at least 10\n",
    "\n",
    "data_science_jobs = [\n",
    "    {'job_title': 'Data Scientist', 'job_skills': ['Python', 'SQL', 'Machine Learning'], 'job_date': '2023-05-12'},\n",
    "    {'job_title': 'Data Analyst', 'job_skills': ['SQL', 'Excel', 'Tableau'], 'job_date': '2023-05-15'},\n",
    "    {'job_title': 'Machine Learning Engineer', 'job_skills': ['Python', 'TensorFlow', 'PyTorch'], 'job_date': '2023-05-18'},\n",
    "    {'job_title': 'Data Engineer', 'job_skills': ['Python', 'SQL', 'Hadoop'], 'job_date': '2023-05-20'},\n",
    "    {'job_title': 'Business Intelligence Analyst', 'job_skills': ['SQL', 'Power BI', 'Excel'], 'job_date': '2023-05-22'},\n",
    "    {'job_title': 'Data Architect', 'job_skills': ['SQL', 'Cloud Computing', 'Data Modeling'], 'job_date': '2023-05-25'},\n",
    "    {'job_title': 'AI Researcher', 'job_skills': ['Python', 'Deep Learning', 'Research'], 'job_date': '2023-05-28'},\n",
    "    {'job_title': 'NLP Engineer', 'job_skills': ['Python', 'NLP', 'Machine Learning'], 'job_date': '2023-06-01'},\n",
    "    {'job_title': 'Computer Vision Engineer', 'job_skills': ['Python', 'OpenCV', 'Deep Learning'], 'job_date': '2023-06-05'},\n",
    "    {'job_title': 'Data Visualization Specialist', 'job_skills': ['Tableau', 'Power BI', 'Data Storytelling'], 'job_date': '2023-06-08'},\n",
    "    {'job_title': 'Database Administrator', 'job_skills': ['SQL', 'Database Management', 'Cloud Computing'], 'job_date': '2023-06-10'},\n",
    "    {'job_title': 'Big Data Engineer', 'job_skills': ['Spark', 'Hadoop', 'Python'], 'job_date': '2023-06-12'}\n",
    "]\n",
    "data_science_jobs"
   ]
  },
  {
   "cell_type": "code",
   "execution_count": null,
   "metadata": {
    "colab": {
     "base_uri": "https://localhost:8080/"
    },
    "id": "VENZDI9-2a5c",
    "outputId": "686544a3-be50-496a-ae82-1bdb1984fbbf"
   },
   "outputs": [
    {
     "data": {
      "text/plain": [
       "str"
      ]
     },
     "execution_count": 6,
     "metadata": {},
     "output_type": "execute_result"
    }
   ],
   "source": [
    "type(data_science_jobs[0]['job_date']) # right now its a str."
   ]
  },
  {
   "cell_type": "code",
   "execution_count": null,
   "metadata": {
    "id": "F3Ub8WEL2gBj"
   },
   "outputs": [],
   "source": [
    "# convert str to datetime\n",
    "\n",
    "test_date = data_science_jobs[0]['job_date']"
   ]
  },
  {
   "cell_type": "code",
   "execution_count": null,
   "metadata": {
    "colab": {
     "base_uri": "https://localhost:8080/"
    },
    "id": "OaWL6Rzu28sU",
    "outputId": "2425abe7-9459-4d5f-e01e-07013a4b0515"
   },
   "outputs": [
    {
     "name": "stdout",
     "output_type": "stream",
     "text": [
      "2023-05-12 00:00:00\n"
     ]
    }
   ],
   "source": [
    "print(datetime.strptime(test_date, \"%Y-%m-%d\"))\n",
    "\n",
    "# returns 2023-05-12 00:00:00\n",
    "# if time ❌ -> use date object"
   ]
  },
  {
   "cell_type": "code",
   "execution_count": null,
   "metadata": {
    "id": "I0z_MhsL3LY1"
   },
   "outputs": [],
   "source": [
    "for job in data_science_jobs:\n",
    "  job[\"job_date\"] = datetime.strptime(job['job_date'], \"%Y-%m-%d\")"
   ]
  },
  {
   "cell_type": "code",
   "execution_count": null,
   "metadata": {
    "colab": {
     "base_uri": "https://localhost:8080/"
    },
    "id": "ilssnP4P3jJ-",
    "outputId": "bbb683bb-118c-4a64-bae0-90f6c9e0cd3f"
   },
   "outputs": [
    {
     "data": {
      "text/plain": [
       "[{'job_title': 'Data Scientist',\n",
       "  'job_skills': ['Python', 'SQL', 'Machine Learning'],\n",
       "  'job_date': datetime.datetime(2023, 5, 12, 0, 0)},\n",
       " {'job_title': 'Data Analyst',\n",
       "  'job_skills': ['SQL', 'Excel', 'Tableau'],\n",
       "  'job_date': datetime.datetime(2023, 5, 15, 0, 0)},\n",
       " {'job_title': 'Machine Learning Engineer',\n",
       "  'job_skills': ['Python', 'TensorFlow', 'PyTorch'],\n",
       "  'job_date': datetime.datetime(2023, 5, 18, 0, 0)},\n",
       " {'job_title': 'Data Engineer',\n",
       "  'job_skills': ['Python', 'SQL', 'Hadoop'],\n",
       "  'job_date': datetime.datetime(2023, 5, 20, 0, 0)},\n",
       " {'job_title': 'Business Intelligence Analyst',\n",
       "  'job_skills': ['SQL', 'Power BI', 'Excel'],\n",
       "  'job_date': datetime.datetime(2023, 5, 22, 0, 0)},\n",
       " {'job_title': 'Data Architect',\n",
       "  'job_skills': ['SQL', 'Cloud Computing', 'Data Modeling'],\n",
       "  'job_date': datetime.datetime(2023, 5, 25, 0, 0)},\n",
       " {'job_title': 'AI Researcher',\n",
       "  'job_skills': ['Python', 'Deep Learning', 'Research'],\n",
       "  'job_date': datetime.datetime(2023, 5, 28, 0, 0)},\n",
       " {'job_title': 'NLP Engineer',\n",
       "  'job_skills': ['Python', 'NLP', 'Machine Learning'],\n",
       "  'job_date': datetime.datetime(2023, 6, 1, 0, 0)},\n",
       " {'job_title': 'Computer Vision Engineer',\n",
       "  'job_skills': ['Python', 'OpenCV', 'Deep Learning'],\n",
       "  'job_date': datetime.datetime(2023, 6, 5, 0, 0)},\n",
       " {'job_title': 'Data Visualization Specialist',\n",
       "  'job_skills': ['Tableau', 'Power BI', 'Data Storytelling'],\n",
       "  'job_date': datetime.datetime(2023, 6, 8, 0, 0)},\n",
       " {'job_title': 'Database Administrator',\n",
       "  'job_skills': ['SQL', 'Database Management', 'Cloud Computing'],\n",
       "  'job_date': datetime.datetime(2023, 6, 10, 0, 0)},\n",
       " {'job_title': 'Big Data Engineer',\n",
       "  'job_skills': ['Spark', 'Hadoop', 'Python'],\n",
       "  'job_date': datetime.datetime(2023, 6, 12, 0, 0)}]"
      ]
     },
     "execution_count": 14,
     "metadata": {},
     "output_type": "execute_result"
    }
   ],
   "source": [
    "data_science_jobs"
   ]
  },
  {
   "cell_type": "code",
   "execution_count": null,
   "metadata": {
    "id": "tiItzYyX328H"
   },
   "outputs": [],
   "source": []
  }
 ],
 "metadata": {
  "colab": {
   "authorship_tag": "ABX9TyM3he0WpFJ/4f5OZrFKH7Io",
   "include_colab_link": true,
   "provenance": [],
   "toc_visible": true
  },
  "kernelspec": {
   "display_name": "Python 3",
   "name": "python3"
  },
  "language_info": {
   "codemirror_mode": {
    "name": "ipython",
    "version": 3
   },
   "file_extension": ".py",
   "mimetype": "text/x-python",
   "name": "python",
   "nbconvert_exporter": "python",
   "pygments_lexer": "ipython3",
   "version": "3.10.12"
  }
 },
 "nbformat": 4,
 "nbformat_minor": 0
}
