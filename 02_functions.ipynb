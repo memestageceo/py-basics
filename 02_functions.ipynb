{
 "cells": [
  {
   "cell_type": "markdown",
   "metadata": {},
   "source": [
    "## datetime"
   ]
  },
  {
   "cell_type": "code",
   "execution_count": 17,
   "metadata": {},
   "outputs": [
    {
     "data": {
      "text/plain": [
       "[{'job_title': 'Data Scientist',\n",
       "  'job_skills': \"['Python', 'SQL', 'Machine Learning']\",\n",
       "  'job_date': '2023-05-12'},\n",
       " {'job_title': 'Data Analyst',\n",
       "  'job_skills': \"['SQL', 'Excel', 'Tableau']\",\n",
       "  'job_date': '2023-05-15'},\n",
       " {'job_title': 'Machine Learning Engineer',\n",
       "  'job_skills': \"['Python', 'TensorFlow', 'PyTorch']\",\n",
       "  'job_date': '2023-05-18'},\n",
       " {'job_title': 'Data Engineer',\n",
       "  'job_skills': \"['Python', 'SQL', 'Hadoop']\",\n",
       "  'job_date': '2023-05-20'},\n",
       " {'job_title': 'Business Intelligence Analyst',\n",
       "  'job_skills': \"['SQL', 'Power BI', 'Excel']\",\n",
       "  'job_date': '2023-05-22'},\n",
       " {'job_title': 'Data Architect',\n",
       "  'job_skills': \"['SQL', 'Cloud Computing', 'Data Modeling']\",\n",
       "  'job_date': '2023-05-25'},\n",
       " {'job_title': 'AI Researcher',\n",
       "  'job_skills': \"['Python', 'Deep Learning', 'Research']\",\n",
       "  'job_date': '2023-05-28'},\n",
       " {'job_title': 'NLP Engineer',\n",
       "  'job_skills': \"['Python', 'NLP', 'Machine Learning']\",\n",
       "  'job_date': '2023-06-01'},\n",
       " {'job_title': 'Computer Vision Engineer',\n",
       "  'job_skills': \"['Python', 'OpenCV', 'Deep Learning']\",\n",
       "  'job_date': '2023-06-05'},\n",
       " {'job_title': 'Data Visualization Specialist',\n",
       "  'job_skills': \"['Tableau', 'Power BI', 'Data Storytelling']\",\n",
       "  'job_date': '2023-06-08'},\n",
       " {'job_title': 'Database Administrator',\n",
       "  'job_skills': \"['SQL', 'Database Management', 'Cloud Computing']\",\n",
       "  'job_date': '2023-06-10'},\n",
       " {'job_title': 'Big Data Engineer',\n",
       "  'job_skills': \"['Spark', 'Hadoop', 'Python']\",\n",
       "  'job_date': '2023-06-12'}]"
      ]
     },
     "execution_count": 17,
     "metadata": {},
     "output_type": "execute_result"
    }
   ],
   "source": [
    "data_science_jobs = [\n",
    "    {'job_title': 'Data Scientist', 'job_skills': \"['Python', 'SQL', 'Machine Learning']\", 'job_date': '2023-05-12'},\n",
    "    {'job_title': 'Data Analyst', 'job_skills': \"['SQL', 'Excel', 'Tableau']\", 'job_date': '2023-05-15'},\n",
    "    {'job_title': 'Machine Learning Engineer', 'job_skills': \"['Python', 'TensorFlow', 'PyTorch']\", 'job_date': '2023-05-18'},\n",
    "    {'job_title': 'Data Engineer', 'job_skills': \"['Python', 'SQL', 'Hadoop']\", 'job_date': '2023-05-20'},\n",
    "    {'job_title': 'Business Intelligence Analyst', 'job_skills': \"['SQL', 'Power BI', 'Excel']\", 'job_date': '2023-05-22'},\n",
    "    {'job_title': 'Data Architect', 'job_skills': \"['SQL', 'Cloud Computing', 'Data Modeling']\", 'job_date': '2023-05-25'},\n",
    "    {'job_title': 'AI Researcher', 'job_skills': \"['Python', 'Deep Learning', 'Research']\", 'job_date': '2023-05-28'},\n",
    "    {'job_title': 'NLP Engineer', 'job_skills': \"['Python', 'NLP', 'Machine Learning']\", 'job_date': '2023-06-01'},\n",
    "    {'job_title': 'Computer Vision Engineer', 'job_skills': \"['Python', 'OpenCV', 'Deep Learning']\", 'job_date': '2023-06-05'},\n",
    "    {'job_title': 'Data Visualization Specialist', 'job_skills': \"['Tableau', 'Power BI', 'Data Storytelling']\", 'job_date': '2023-06-08'},\n",
    "    {'job_title': 'Database Administrator', 'job_skills': \"['SQL', 'Database Management', 'Cloud Computing']\", 'job_date': '2023-06-10'},\n",
    "    {'job_title': 'Big Data Engineer', 'job_skills': \"['Spark', 'Hadoop', 'Python']\", 'job_date': '2023-06-12'}\n",
    "]\n",
    "data_science_jobs"
   ]
  },
  {
   "cell_type": "code",
   "execution_count": 18,
   "metadata": {},
   "outputs": [],
   "source": [
    "from datetime import datetime"
   ]
  },
  {
   "cell_type": "code",
   "execution_count": 19,
   "metadata": {},
   "outputs": [
    {
     "data": {
      "text/plain": [
       "str"
      ]
     },
     "execution_count": 19,
     "metadata": {},
     "output_type": "execute_result"
    }
   ],
   "source": [
    "type(data_science_jobs[0]['job_date']) # right now its a str."
   ]
  },
  {
   "cell_type": "code",
   "execution_count": 20,
   "metadata": {},
   "outputs": [],
   "source": [
    "# convert str to datetime\n",
    "\n",
    "test_date = data_science_jobs[0]['job_date']"
   ]
  },
  {
   "cell_type": "code",
   "execution_count": 21,
   "metadata": {},
   "outputs": [
    {
     "name": "stdout",
     "output_type": "stream",
     "text": [
      "2023-05-12 00:00:00\n"
     ]
    }
   ],
   "source": [
    "print(datetime.strptime(test_date, \"%Y-%m-%d\"))\n",
    "\n",
    "# returns 2023-05-12 00:00:00\n",
    "# if time ❌ -> use date object"
   ]
  },
  {
   "cell_type": "code",
   "execution_count": 22,
   "metadata": {},
   "outputs": [],
   "source": [
    "import ast # abstract syntax tree -> converts string to list\n",
    "\n",
    "for job in data_science_jobs:\n",
    "  job[\"job_date\"] = datetime.strptime(job['job_date'], \"%Y-%m-%d\")\n",
    "  job[\"job_skills\"] = ast.literal_eval(job[\"job_skills\"])"
   ]
  },
  {
   "cell_type": "code",
   "execution_count": 7,
   "metadata": {},
   "outputs": [
    {
     "data": {
      "text/plain": [
       "[{'job_title': 'Data Scientist',\n",
       "  'job_skills': ['Python', 'SQL', 'Machine Learning'],\n",
       "  'job_date': datetime.datetime(2023, 5, 12, 0, 0)},\n",
       " {'job_title': 'Data Analyst',\n",
       "  'job_skills': ['SQL', 'Excel', 'Tableau'],\n",
       "  'job_date': datetime.datetime(2023, 5, 15, 0, 0)},\n",
       " {'job_title': 'Machine Learning Engineer',\n",
       "  'job_skills': ['Python', 'TensorFlow', 'PyTorch'],\n",
       "  'job_date': datetime.datetime(2023, 5, 18, 0, 0)},\n",
       " {'job_title': 'Data Engineer',\n",
       "  'job_skills': ['Python', 'SQL', 'Hadoop'],\n",
       "  'job_date': datetime.datetime(2023, 5, 20, 0, 0)},\n",
       " {'job_title': 'Business Intelligence Analyst',\n",
       "  'job_skills': ['SQL', 'Power BI', 'Excel'],\n",
       "  'job_date': datetime.datetime(2023, 5, 22, 0, 0)},\n",
       " {'job_title': 'Data Architect',\n",
       "  'job_skills': ['SQL', 'Cloud Computing', 'Data Modeling'],\n",
       "  'job_date': datetime.datetime(2023, 5, 25, 0, 0)},\n",
       " {'job_title': 'AI Researcher',\n",
       "  'job_skills': ['Python', 'Deep Learning', 'Research'],\n",
       "  'job_date': datetime.datetime(2023, 5, 28, 0, 0)},\n",
       " {'job_title': 'NLP Engineer',\n",
       "  'job_skills': ['Python', 'NLP', 'Machine Learning'],\n",
       "  'job_date': datetime.datetime(2023, 6, 1, 0, 0)},\n",
       " {'job_title': 'Computer Vision Engineer',\n",
       "  'job_skills': ['Python', 'OpenCV', 'Deep Learning'],\n",
       "  'job_date': datetime.datetime(2023, 6, 5, 0, 0)},\n",
       " {'job_title': 'Data Visualization Specialist',\n",
       "  'job_skills': ['Tableau', 'Power BI', 'Data Storytelling'],\n",
       "  'job_date': datetime.datetime(2023, 6, 8, 0, 0)},\n",
       " {'job_title': 'Database Administrator',\n",
       "  'job_skills': ['SQL', 'Database Management', 'Cloud Computing'],\n",
       "  'job_date': datetime.datetime(2023, 6, 10, 0, 0)},\n",
       " {'job_title': 'Big Data Engineer',\n",
       "  'job_skills': ['Spark', 'Hadoop', 'Python'],\n",
       "  'job_date': datetime.datetime(2023, 6, 12, 0, 0)}]"
      ]
     },
     "execution_count": 7,
     "metadata": {},
     "output_type": "execute_result"
    }
   ],
   "source": [
    "data_science_jobs"
   ]
  },
  {
   "cell_type": "code",
   "execution_count": null,
   "metadata": {},
   "outputs": [],
   "source": []
  }
 ],
 "metadata": {
  "kernelspec": {
   "display_name": "Python 3",
   "language": "python",
   "name": "python3"
  },
  "language_info": {
   "codemirror_mode": {
    "name": "ipython",
    "version": 3
   },
   "file_extension": ".py",
   "mimetype": "text/x-python",
   "name": "python",
   "nbconvert_exporter": "python",
   "pygments_lexer": "ipython3",
   "version": "3.10.12"
  }
 },
 "nbformat": 4,
 "nbformat_minor": 2
}
